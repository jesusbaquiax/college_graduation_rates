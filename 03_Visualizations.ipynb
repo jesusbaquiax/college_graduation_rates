{
 "cells": [
  {
   "cell_type": "code",
   "execution_count": 3,
   "metadata": {},
   "outputs": [],
   "source": [
    "import pandas as pd\n",
    "import numpy as np\n",
    "import seaborn as sns\n",
    "import matplotlib.pyplot as plt\n",
    "%matplotlib inline\n",
    "pd.options.display.max_columns = None\n",
    "pd.options.display.max_rows = None\n",
    "np.random.seed(9)"
   ]
  },
  {
   "cell_type": "code",
   "execution_count": 5,
   "metadata": {},
   "outputs": [],
   "source": [
    "processed_top5_feature_df = pd.read_pickle(\"./data/processed_top5_feature_df.pkl\")"
   ]
  },
  {
   "cell_type": "code",
   "execution_count": 6,
   "metadata": {},
   "outputs": [
    {
     "data": {
      "text/plain": [
       "(34593, 9554)"
      ]
     },
     "execution_count": 6,
     "metadata": {},
     "output_type": "execute_result"
    }
   ],
   "source": [
    "processed_top5_feature_df.shape"
   ]
  },
  {
   "cell_type": "code",
   "execution_count": 7,
   "metadata": {},
   "outputs": [],
   "source": [
    "instnm_df = pd.read_pickle(\"./data/instnm_df.pkl\")"
   ]
  },
  {
   "cell_type": "code",
   "execution_count": 8,
   "metadata": {},
   "outputs": [
    {
     "data": {
      "text/plain": [
       "(34593, 3)"
      ]
     },
     "execution_count": 8,
     "metadata": {},
     "output_type": "execute_result"
    }
   ],
   "source": [
    "instnm_df.shape"
   ]
  },
  {
   "cell_type": "code",
   "execution_count": 10,
   "metadata": {},
   "outputs": [],
   "source": [
    "combined_df = pd.merge(processed_top5_feature_df, instnm_df, on='UNITID')"
   ]
  },
  {
   "cell_type": "code",
   "execution_count": 11,
   "metadata": {},
   "outputs": [
    {
     "data": {
      "text/plain": [
       "(352777, 9556)"
      ]
     },
     "execution_count": 11,
     "metadata": {},
     "output_type": "execute_result"
    }
   ],
   "source": [
    "combined_df.shape"
   ]
  },
  {
   "cell_type": "code",
   "execution_count": 52,
   "metadata": {},
   "outputs": [
    {
     "data": {
      "text/html": [
       "<div>\n",
       "<style scoped>\n",
       "    .dataframe tbody tr th:only-of-type {\n",
       "        vertical-align: middle;\n",
       "    }\n",
       "\n",
       "    .dataframe tbody tr th {\n",
       "        vertical-align: top;\n",
       "    }\n",
       "\n",
       "    .dataframe thead th {\n",
       "        text-align: right;\n",
       "    }\n",
       "</style>\n",
       "<table border=\"1\" class=\"dataframe\">\n",
       "  <thead>\n",
       "    <tr style=\"text-align: right;\">\n",
       "      <th></th>\n",
       "      <th>UNITID</th>\n",
       "      <th>INSTNM</th>\n",
       "      <th>OPEID</th>\n",
       "    </tr>\n",
       "    <tr>\n",
       "      <th>Id</th>\n",
       "      <th></th>\n",
       "      <th></th>\n",
       "      <th></th>\n",
       "    </tr>\n",
       "  </thead>\n",
       "  <tbody>\n",
       "    <tr>\n",
       "      <th>114431</th>\n",
       "      <td>430704</td>\n",
       "      <td>Texas College of Traditional Chinese Medicine</td>\n",
       "      <td>3179500</td>\n",
       "    </tr>\n",
       "  </tbody>\n",
       "</table>\n",
       "</div>"
      ],
      "text/plain": [
       "        UNITID                                         INSTNM    OPEID\n",
       "Id                                                                    \n",
       "114431  430704  Texas College of Traditional Chinese Medicine  3179500"
      ]
     },
     "execution_count": 52,
     "metadata": {},
     "output_type": "execute_result"
    }
   ],
   "source": [
    "instnm_df.loc[instnm_df['UNITID'] == 430704]"
   ]
  },
  {
   "cell_type": "markdown",
   "metadata": {},
   "source": [
    "# Completion Rate's"
   ]
  },
  {
   "cell_type": "code",
   "execution_count": 46,
   "metadata": {},
   "outputs": [],
   "source": [
    "completion_df = combined_df[['UNITID', 'INSTNM', 'COMP_ORIG_YR4_RT']].copy()"
   ]
  },
  {
   "cell_type": "code",
   "execution_count": 47,
   "metadata": {},
   "outputs": [
    {
     "data": {
      "text/html": [
       "<div>\n",
       "<style scoped>\n",
       "    .dataframe tbody tr th:only-of-type {\n",
       "        vertical-align: middle;\n",
       "    }\n",
       "\n",
       "    .dataframe tbody tr th {\n",
       "        vertical-align: top;\n",
       "    }\n",
       "\n",
       "    .dataframe thead th {\n",
       "        text-align: right;\n",
       "    }\n",
       "</style>\n",
       "<table border=\"1\" class=\"dataframe\">\n",
       "  <thead>\n",
       "    <tr style=\"text-align: right;\">\n",
       "      <th></th>\n",
       "      <th>COMP_ORIG_YR4_RT</th>\n",
       "    </tr>\n",
       "    <tr>\n",
       "      <th>UNITID</th>\n",
       "      <th></th>\n",
       "    </tr>\n",
       "  </thead>\n",
       "  <tbody>\n",
       "    <tr>\n",
       "      <th>430704.0</th>\n",
       "      <td>1.0</td>\n",
       "    </tr>\n",
       "    <tr>\n",
       "      <th>221670.0</th>\n",
       "      <td>1.0</td>\n",
       "    </tr>\n",
       "    <tr>\n",
       "      <th>193751.0</th>\n",
       "      <td>1.0</td>\n",
       "    </tr>\n",
       "    <tr>\n",
       "      <th>145628.0</th>\n",
       "      <td>1.0</td>\n",
       "    </tr>\n",
       "    <tr>\n",
       "      <th>167093.0</th>\n",
       "      <td>1.0</td>\n",
       "    </tr>\n",
       "  </tbody>\n",
       "</table>\n",
       "</div>"
      ],
      "text/plain": [
       "          COMP_ORIG_YR4_RT\n",
       "UNITID                    \n",
       "430704.0               1.0\n",
       "221670.0               1.0\n",
       "193751.0               1.0\n",
       "145628.0               1.0\n",
       "167093.0               1.0"
      ]
     },
     "execution_count": 47,
     "metadata": {},
     "output_type": "execute_result"
    }
   ],
   "source": [
    "grouped_completion_df = completion_df.groupby('UNITID').median()\n",
    "grouped_completion_df = grouped_completion_df.sort_values(by=['COMP_ORIG_YR4_RT'], ascending=False)\n",
    "grouped_completion_df[['COMP_ORIG_YR4_RT']].head(5)"
   ]
  },
  {
   "cell_type": "code",
   "execution_count": 48,
   "metadata": {},
   "outputs": [
    {
     "data": {
      "text/html": [
       "<div>\n",
       "<style scoped>\n",
       "    .dataframe tbody tr th:only-of-type {\n",
       "        vertical-align: middle;\n",
       "    }\n",
       "\n",
       "    .dataframe tbody tr th {\n",
       "        vertical-align: top;\n",
       "    }\n",
       "\n",
       "    .dataframe thead th {\n",
       "        text-align: right;\n",
       "    }\n",
       "</style>\n",
       "<table border=\"1\" class=\"dataframe\">\n",
       "  <thead>\n",
       "    <tr style=\"text-align: right;\">\n",
       "      <th></th>\n",
       "      <th>COMP_ORIG_YR4_RT</th>\n",
       "    </tr>\n",
       "    <tr>\n",
       "      <th>UNITID</th>\n",
       "      <th></th>\n",
       "    </tr>\n",
       "  </thead>\n",
       "  <tbody>\n",
       "    <tr>\n",
       "      <th>128902.0</th>\n",
       "      <td>0.813559</td>\n",
       "    </tr>\n",
       "  </tbody>\n",
       "</table>\n",
       "</div>"
      ],
      "text/plain": [
       "          COMP_ORIG_YR4_RT\n",
       "UNITID                    \n",
       "128902.0          0.813559"
      ]
     },
     "execution_count": 48,
     "metadata": {},
     "output_type": "execute_result"
    }
   ],
   "source": [
    "grouped_completion_df.loc[128902:128902,]"
   ]
  },
  {
   "cell_type": "markdown",
   "metadata": {},
   "source": [
    "# Strongest Correlation - TUITIONFEE_OUT\n",
    "### Out-of-state tuition and fees"
   ]
  },
  {
   "cell_type": "code",
   "execution_count": 20,
   "metadata": {},
   "outputs": [],
   "source": [
    "tuition_df = combined_df[['UNITID', 'INSTNM', 'TUITIONFEE_OUT', 'COMP_ORIG_YR4_RT']].copy()"
   ]
  },
  {
   "cell_type": "code",
   "execution_count": 21,
   "metadata": {},
   "outputs": [
    {
     "data": {
      "text/html": [
       "<div>\n",
       "<style scoped>\n",
       "    .dataframe tbody tr th:only-of-type {\n",
       "        vertical-align: middle;\n",
       "    }\n",
       "\n",
       "    .dataframe tbody tr th {\n",
       "        vertical-align: top;\n",
       "    }\n",
       "\n",
       "    .dataframe thead th {\n",
       "        text-align: right;\n",
       "    }\n",
       "</style>\n",
       "<table border=\"1\" class=\"dataframe\">\n",
       "  <thead>\n",
       "    <tr style=\"text-align: right;\">\n",
       "      <th></th>\n",
       "      <th>TUITIONFEE_OUT</th>\n",
       "    </tr>\n",
       "    <tr>\n",
       "      <th>UNITID</th>\n",
       "      <th></th>\n",
       "    </tr>\n",
       "  </thead>\n",
       "  <tbody>\n",
       "    <tr>\n",
       "      <th>128902.0</th>\n",
       "      <td>43990.0</td>\n",
       "    </tr>\n",
       "    <tr>\n",
       "      <th>234216.0</th>\n",
       "      <td>43587.0</td>\n",
       "    </tr>\n",
       "    <tr>\n",
       "      <th>161086.0</th>\n",
       "      <td>42820.0</td>\n",
       "    </tr>\n",
       "    <tr>\n",
       "      <th>160977.0</th>\n",
       "      <td>42800.0</td>\n",
       "    </tr>\n",
       "    <tr>\n",
       "      <th>230959.0</th>\n",
       "      <td>42428.0</td>\n",
       "    </tr>\n",
       "  </tbody>\n",
       "</table>\n",
       "</div>"
      ],
      "text/plain": [
       "          TUITIONFEE_OUT\n",
       "UNITID                  \n",
       "128902.0         43990.0\n",
       "234216.0         43587.0\n",
       "161086.0         42820.0\n",
       "160977.0         42800.0\n",
       "230959.0         42428.0"
      ]
     },
     "execution_count": 21,
     "metadata": {},
     "output_type": "execute_result"
    }
   ],
   "source": [
    "grouped_tuition_df = tuition_df.groupby('UNITID').median()\n",
    "grouped_tuition_df = grouped_tuition_df.sort_values(by=['TUITIONFEE_OUT'], ascending=False)\n",
    "grouped_tuition_df[['TUITIONFEE_OUT']].head(5)"
   ]
  },
  {
   "cell_type": "code",
   "execution_count": 103,
   "metadata": {},
   "outputs": [
    {
     "data": {
      "text/html": [
       "<div>\n",
       "<style scoped>\n",
       "    .dataframe tbody tr th:only-of-type {\n",
       "        vertical-align: middle;\n",
       "    }\n",
       "\n",
       "    .dataframe tbody tr th {\n",
       "        vertical-align: top;\n",
       "    }\n",
       "\n",
       "    .dataframe thead th {\n",
       "        text-align: right;\n",
       "    }\n",
       "</style>\n",
       "<table border=\"1\" class=\"dataframe\">\n",
       "  <thead>\n",
       "    <tr style=\"text-align: right;\">\n",
       "      <th></th>\n",
       "      <th>TUITIONFEE_OUT</th>\n",
       "    </tr>\n",
       "    <tr>\n",
       "      <th>UNITID</th>\n",
       "      <th></th>\n",
       "    </tr>\n",
       "  </thead>\n",
       "  <tbody>\n",
       "    <tr>\n",
       "      <th>155140.0</th>\n",
       "      <td>317.5</td>\n",
       "    </tr>\n",
       "    <tr>\n",
       "      <th>155326.0</th>\n",
       "      <td>196.0</td>\n",
       "    </tr>\n",
       "    <tr>\n",
       "      <th>155618.0</th>\n",
       "      <td>196.0</td>\n",
       "    </tr>\n",
       "    <tr>\n",
       "      <th>197221.0</th>\n",
       "      <td>0.0</td>\n",
       "    </tr>\n",
       "    <tr>\n",
       "      <th>197027.0</th>\n",
       "      <td>0.0</td>\n",
       "    </tr>\n",
       "  </tbody>\n",
       "</table>\n",
       "</div>"
      ],
      "text/plain": [
       "          TUITIONFEE_OUT\n",
       "UNITID                  \n",
       "155140.0           317.5\n",
       "155326.0           196.0\n",
       "155618.0           196.0\n",
       "197221.0             0.0\n",
       "197027.0             0.0"
      ]
     },
     "execution_count": 103,
     "metadata": {},
     "output_type": "execute_result"
    }
   ],
   "source": [
    "grouped_tuition_df[['TUITIONFEE_OUT']].tail(5)"
   ]
  },
  {
   "cell_type": "code",
   "execution_count": 104,
   "metadata": {},
   "outputs": [
    {
     "data": {
      "text/html": [
       "<div>\n",
       "<style scoped>\n",
       "    .dataframe tbody tr th:only-of-type {\n",
       "        vertical-align: middle;\n",
       "    }\n",
       "\n",
       "    .dataframe tbody tr th {\n",
       "        vertical-align: top;\n",
       "    }\n",
       "\n",
       "    .dataframe thead th {\n",
       "        text-align: right;\n",
       "    }\n",
       "</style>\n",
       "<table border=\"1\" class=\"dataframe\">\n",
       "  <thead>\n",
       "    <tr style=\"text-align: right;\">\n",
       "      <th></th>\n",
       "      <th>UNITID</th>\n",
       "      <th>INSTNM</th>\n",
       "      <th>OPEID</th>\n",
       "    </tr>\n",
       "    <tr>\n",
       "      <th>Id</th>\n",
       "      <th></th>\n",
       "      <th></th>\n",
       "      <th></th>\n",
       "    </tr>\n",
       "  </thead>\n",
       "  <tbody>\n",
       "    <tr>\n",
       "      <th>81375</th>\n",
       "      <td>155618</td>\n",
       "      <td>Northwest Kansas Technical College</td>\n",
       "      <td>526700</td>\n",
       "    </tr>\n",
       "  </tbody>\n",
       "</table>\n",
       "</div>"
      ],
      "text/plain": [
       "       UNITID                              INSTNM   OPEID\n",
       "Id                                                       \n",
       "81375  155618  Northwest Kansas Technical College  526700"
      ]
     },
     "execution_count": 104,
     "metadata": {},
     "output_type": "execute_result"
    }
   ],
   "source": [
    "instnm_df.loc[instnm_df['UNITID'] == 155618]"
   ]
  },
  {
   "cell_type": "code",
   "execution_count": 105,
   "metadata": {},
   "outputs": [
    {
     "data": {
      "text/html": [
       "<div>\n",
       "<style scoped>\n",
       "    .dataframe tbody tr th:only-of-type {\n",
       "        vertical-align: middle;\n",
       "    }\n",
       "\n",
       "    .dataframe tbody tr th {\n",
       "        vertical-align: top;\n",
       "    }\n",
       "\n",
       "    .dataframe thead th {\n",
       "        text-align: right;\n",
       "    }\n",
       "</style>\n",
       "<table border=\"1\" class=\"dataframe\">\n",
       "  <thead>\n",
       "    <tr style=\"text-align: right;\">\n",
       "      <th></th>\n",
       "      <th>COMP_ORIG_YR4_RT</th>\n",
       "    </tr>\n",
       "    <tr>\n",
       "      <th>UNITID</th>\n",
       "      <th></th>\n",
       "    </tr>\n",
       "  </thead>\n",
       "  <tbody>\n",
       "    <tr>\n",
       "      <th>155618.0</th>\n",
       "      <td>0.704698</td>\n",
       "    </tr>\n",
       "  </tbody>\n",
       "</table>\n",
       "</div>"
      ],
      "text/plain": [
       "          COMP_ORIG_YR4_RT\n",
       "UNITID                    \n",
       "155618.0          0.704698"
      ]
     },
     "execution_count": 105,
     "metadata": {},
     "output_type": "execute_result"
    }
   ],
   "source": [
    "grouped_completion_df.loc[155618:155618,]"
   ]
  },
  {
   "cell_type": "code",
   "execution_count": 69,
   "metadata": {},
   "outputs": [
    {
     "data": {
      "text/html": [
       "<div>\n",
       "<style scoped>\n",
       "    .dataframe tbody tr th:only-of-type {\n",
       "        vertical-align: middle;\n",
       "    }\n",
       "\n",
       "    .dataframe tbody tr th {\n",
       "        vertical-align: top;\n",
       "    }\n",
       "\n",
       "    .dataframe thead th {\n",
       "        text-align: right;\n",
       "    }\n",
       "</style>\n",
       "<table border=\"1\" class=\"dataframe\">\n",
       "  <thead>\n",
       "    <tr style=\"text-align: right;\">\n",
       "      <th></th>\n",
       "      <th>COMP_ORIG_YR4_RT</th>\n",
       "    </tr>\n",
       "    <tr>\n",
       "      <th>UNITID</th>\n",
       "      <th></th>\n",
       "    </tr>\n",
       "  </thead>\n",
       "  <tbody>\n",
       "    <tr>\n",
       "      <th>230959.0</th>\n",
       "      <td>0.783439</td>\n",
       "    </tr>\n",
       "  </tbody>\n",
       "</table>\n",
       "</div>"
      ],
      "text/plain": [
       "          COMP_ORIG_YR4_RT\n",
       "UNITID                    \n",
       "230959.0          0.783439"
      ]
     },
     "execution_count": 69,
     "metadata": {},
     "output_type": "execute_result"
    }
   ],
   "source": [
    "grouped_completion_df.loc[230959:230959,]"
   ]
  },
  {
   "cell_type": "code",
   "execution_count": 70,
   "metadata": {},
   "outputs": [],
   "source": [
    "top_tuition_dict = {'Institution':['Connecticut College', 'Gibbs College', 'Colby College', 'Bates College', 'Middlebury College'],\n",
    "                    'TUITIONFEE_OUT':[43990, 43587, 42820, 42800, 42428],\n",
    "                   'COMP_ORIG_YR4_RT':[0.813559, 0.412048, 0.823009, 0.734104, 0.783439]}"
   ]
  },
  {
   "cell_type": "code",
   "execution_count": 71,
   "metadata": {},
   "outputs": [
    {
     "data": {
      "text/html": [
       "<div>\n",
       "<style scoped>\n",
       "    .dataframe tbody tr th:only-of-type {\n",
       "        vertical-align: middle;\n",
       "    }\n",
       "\n",
       "    .dataframe tbody tr th {\n",
       "        vertical-align: top;\n",
       "    }\n",
       "\n",
       "    .dataframe thead th {\n",
       "        text-align: right;\n",
       "    }\n",
       "</style>\n",
       "<table border=\"1\" class=\"dataframe\">\n",
       "  <thead>\n",
       "    <tr style=\"text-align: right;\">\n",
       "      <th></th>\n",
       "      <th>Institution</th>\n",
       "      <th>TUITIONFEE_OUT</th>\n",
       "      <th>COMP_ORIG_YR4_RT</th>\n",
       "    </tr>\n",
       "  </thead>\n",
       "  <tbody>\n",
       "    <tr>\n",
       "      <th>0</th>\n",
       "      <td>Connecticut College</td>\n",
       "      <td>43990</td>\n",
       "      <td>0.813559</td>\n",
       "    </tr>\n",
       "    <tr>\n",
       "      <th>1</th>\n",
       "      <td>Gibbs College</td>\n",
       "      <td>43587</td>\n",
       "      <td>0.412048</td>\n",
       "    </tr>\n",
       "    <tr>\n",
       "      <th>2</th>\n",
       "      <td>Colby College</td>\n",
       "      <td>42820</td>\n",
       "      <td>0.823009</td>\n",
       "    </tr>\n",
       "    <tr>\n",
       "      <th>3</th>\n",
       "      <td>Bates College</td>\n",
       "      <td>42800</td>\n",
       "      <td>0.734104</td>\n",
       "    </tr>\n",
       "    <tr>\n",
       "      <th>4</th>\n",
       "      <td>Middlebury College</td>\n",
       "      <td>42428</td>\n",
       "      <td>0.783439</td>\n",
       "    </tr>\n",
       "  </tbody>\n",
       "</table>\n",
       "</div>"
      ],
      "text/plain": [
       "           Institution  TUITIONFEE_OUT  COMP_ORIG_YR4_RT\n",
       "0  Connecticut College           43990          0.813559\n",
       "1        Gibbs College           43587          0.412048\n",
       "2        Colby College           42820          0.823009\n",
       "3        Bates College           42800          0.734104\n",
       "4   Middlebury College           42428          0.783439"
      ]
     },
     "execution_count": 71,
     "metadata": {},
     "output_type": "execute_result"
    }
   ],
   "source": [
    "top_tuition_df = pd.DataFrame.from_dict(top_tuition_dict)\n",
    "top_tuition_df"
   ]
  },
  {
   "cell_type": "code",
   "execution_count": 109,
   "metadata": {},
   "outputs": [
    {
     "data": {
      "image/png": "[encoded data removed]",
      "text/plain": [
       "<Figure size 576x432 with 1 Axes>"
      ]
     },
     "metadata": {
      "needs_background": "light"
     },
     "output_type": "display_data"
    }
   ],
   "source": [
    "fig = plt.figure(figsize = (8,6))\n",
    "ax = fig.add_axes([0,0,1,1])\n",
    "instnm = list(top_tuition_df['Institution'])\n",
    "completion_pct = top_tuition_df['COMP_ORIG_YR4_RT']\n",
    "ax.bar(instnm, completion_pct, color=['C0', 'C1', 'C2', 'C3', 'C4'])\n",
    "plt.xticks(rotation=45, ha='right')\n",
    "plt.title('Colleges w Highest Out of State Tuition & Fees')\n",
    "plt.ylabel('4 Year Completion %', fontsize = 14)\n",
    "plt.show()"
   ]
  },
  {
   "cell_type": "markdown",
   "metadata": {},
   "source": [
    "# Second Strongest Correlation - COSTT4_A\n",
    "## Average cost of attendance (academic year institutions)"
   ]
  },
  {
   "cell_type": "code",
   "execution_count": 88,
   "metadata": {},
   "outputs": [
    {
     "data": {
      "text/html": [
       "<div>\n",
       "<style scoped>\n",
       "    .dataframe tbody tr th:only-of-type {\n",
       "        vertical-align: middle;\n",
       "    }\n",
       "\n",
       "    .dataframe tbody tr th {\n",
       "        vertical-align: top;\n",
       "    }\n",
       "\n",
       "    .dataframe thead th {\n",
       "        text-align: right;\n",
       "    }\n",
       "</style>\n",
       "<table border=\"1\" class=\"dataframe\">\n",
       "  <thead>\n",
       "    <tr style=\"text-align: right;\">\n",
       "      <th></th>\n",
       "      <th>COSTT4_A</th>\n",
       "    </tr>\n",
       "    <tr>\n",
       "      <th>UNITID</th>\n",
       "      <th></th>\n",
       "    </tr>\n",
       "  </thead>\n",
       "  <tbody>\n",
       "    <tr>\n",
       "      <th>433004.0</th>\n",
       "      <td>72143.0</td>\n",
       "    </tr>\n",
       "    <tr>\n",
       "      <th>247649.0</th>\n",
       "      <td>60025.0</td>\n",
       "    </tr>\n",
       "    <tr>\n",
       "      <th>195304.0</th>\n",
       "      <td>57240.5</td>\n",
       "    </tr>\n",
       "    <tr>\n",
       "      <th>144050.0</th>\n",
       "      <td>56392.5</td>\n",
       "    </tr>\n",
       "    <tr>\n",
       "      <th>179867.0</th>\n",
       "      <td>55731.5</td>\n",
       "    </tr>\n",
       "  </tbody>\n",
       "</table>\n",
       "</div>"
      ],
      "text/plain": [
       "          COSTT4_A\n",
       "UNITID            \n",
       "433004.0   72143.0\n",
       "247649.0   60025.0\n",
       "195304.0   57240.5\n",
       "144050.0   56392.5\n",
       "179867.0   55731.5"
      ]
     },
     "execution_count": 88,
     "metadata": {},
     "output_type": "execute_result"
    }
   ],
   "source": [
    "attendance_cost_df = combined_df[['UNITID', 'INSTNM', 'COSTT4_A']].copy()\n",
    "grouped_attendance_cost_df = attendance_cost_df.groupby('UNITID').median()\n",
    "grouped_attendance_cost_df = grouped_attendance_cost_df.sort_values(by=['COSTT4_A'], ascending=False)\n",
    "grouped_attendance_cost_df[['COSTT4_A']].head(5)"
   ]
  },
  {
   "cell_type": "code",
   "execution_count": 98,
   "metadata": {},
   "outputs": [
    {
     "data": {
      "text/html": [
       "<div>\n",
       "<style scoped>\n",
       "    .dataframe tbody tr th:only-of-type {\n",
       "        vertical-align: middle;\n",
       "    }\n",
       "\n",
       "    .dataframe tbody tr th {\n",
       "        vertical-align: top;\n",
       "    }\n",
       "\n",
       "    .dataframe thead th {\n",
       "        text-align: right;\n",
       "    }\n",
       "</style>\n",
       "<table border=\"1\" class=\"dataframe\">\n",
       "  <thead>\n",
       "    <tr style=\"text-align: right;\">\n",
       "      <th></th>\n",
       "      <th>UNITID</th>\n",
       "      <th>INSTNM</th>\n",
       "      <th>OPEID</th>\n",
       "    </tr>\n",
       "    <tr>\n",
       "      <th>Id</th>\n",
       "      <th></th>\n",
       "      <th></th>\n",
       "      <th></th>\n",
       "    </tr>\n",
       "  </thead>\n",
       "  <tbody>\n",
       "    <tr>\n",
       "      <th>42000</th>\n",
       "      <td>179867</td>\n",
       "      <td>WASHINGTON UNIVERSITY IN ST LOUIS</td>\n",
       "      <td>252000</td>\n",
       "    </tr>\n",
       "    <tr>\n",
       "      <th>48519</th>\n",
       "      <td>179867</td>\n",
       "      <td>WASHINGTON UNIVERSITY IN ST LOUIS</td>\n",
       "      <td>252000</td>\n",
       "    </tr>\n",
       "    <tr>\n",
       "      <th>55049</th>\n",
       "      <td>179867</td>\n",
       "      <td>WASHINGTON UNIVERSITY IN ST LOUIS</td>\n",
       "      <td>252000</td>\n",
       "    </tr>\n",
       "    <tr>\n",
       "      <th>61694</th>\n",
       "      <td>179867</td>\n",
       "      <td>Washington University in St Louis</td>\n",
       "      <td>252000</td>\n",
       "    </tr>\n",
       "    <tr>\n",
       "      <th>68489</th>\n",
       "      <td>179867</td>\n",
       "      <td>Washington University in St Louis</td>\n",
       "      <td>252000</td>\n",
       "    </tr>\n",
       "    <tr>\n",
       "      <th>75318</th>\n",
       "      <td>179867</td>\n",
       "      <td>Washington University in St Louis</td>\n",
       "      <td>252000</td>\n",
       "    </tr>\n",
       "    <tr>\n",
       "      <th>82189</th>\n",
       "      <td>179867</td>\n",
       "      <td>Washington University in St Louis</td>\n",
       "      <td>252000</td>\n",
       "    </tr>\n",
       "    <tr>\n",
       "      <th>89142</th>\n",
       "      <td>179867</td>\n",
       "      <td>Washington University in St Louis</td>\n",
       "      <td>252000</td>\n",
       "    </tr>\n",
       "    <tr>\n",
       "      <th>96252</th>\n",
       "      <td>179867</td>\n",
       "      <td>Washington University in St Louis</td>\n",
       "      <td>252000</td>\n",
       "    </tr>\n",
       "    <tr>\n",
       "      <th>103643</th>\n",
       "      <td>179867</td>\n",
       "      <td>Washington University in St Louis</td>\n",
       "      <td>252000</td>\n",
       "    </tr>\n",
       "    <tr>\n",
       "      <th>111282</th>\n",
       "      <td>179867</td>\n",
       "      <td>Washington University in St Louis</td>\n",
       "      <td>252000</td>\n",
       "    </tr>\n",
       "  </tbody>\n",
       "</table>\n",
       "</div>"
      ],
      "text/plain": [
       "        UNITID                             INSTNM   OPEID\n",
       "Id                                                       \n",
       "42000   179867  WASHINGTON UNIVERSITY IN ST LOUIS  252000\n",
       "48519   179867  WASHINGTON UNIVERSITY IN ST LOUIS  252000\n",
       "55049   179867  WASHINGTON UNIVERSITY IN ST LOUIS  252000\n",
       "61694   179867  Washington University in St Louis  252000\n",
       "68489   179867  Washington University in St Louis  252000\n",
       "75318   179867  Washington University in St Louis  252000\n",
       "82189   179867  Washington University in St Louis  252000\n",
       "89142   179867  Washington University in St Louis  252000\n",
       "96252   179867  Washington University in St Louis  252000\n",
       "103643  179867  Washington University in St Louis  252000\n",
       "111282  179867  Washington University in St Louis  252000"
      ]
     },
     "execution_count": 98,
     "metadata": {},
     "output_type": "execute_result"
    }
   ],
   "source": [
    "instnm_df.loc[instnm_df['UNITID'] == 179867]"
   ]
  },
  {
   "cell_type": "code",
   "execution_count": 99,
   "metadata": {},
   "outputs": [
    {
     "data": {
      "text/html": [
       "<div>\n",
       "<style scoped>\n",
       "    .dataframe tbody tr th:only-of-type {\n",
       "        vertical-align: middle;\n",
       "    }\n",
       "\n",
       "    .dataframe tbody tr th {\n",
       "        vertical-align: top;\n",
       "    }\n",
       "\n",
       "    .dataframe thead th {\n",
       "        text-align: right;\n",
       "    }\n",
       "</style>\n",
       "<table border=\"1\" class=\"dataframe\">\n",
       "  <thead>\n",
       "    <tr style=\"text-align: right;\">\n",
       "      <th></th>\n",
       "      <th>COMP_ORIG_YR4_RT</th>\n",
       "    </tr>\n",
       "    <tr>\n",
       "      <th>UNITID</th>\n",
       "      <th></th>\n",
       "    </tr>\n",
       "  </thead>\n",
       "  <tbody>\n",
       "    <tr>\n",
       "      <th>179867.0</th>\n",
       "      <td>0.834525</td>\n",
       "    </tr>\n",
       "  </tbody>\n",
       "</table>\n",
       "</div>"
      ],
      "text/plain": [
       "          COMP_ORIG_YR4_RT\n",
       "UNITID                    \n",
       "179867.0          0.834525"
      ]
     },
     "execution_count": 99,
     "metadata": {},
     "output_type": "execute_result"
    }
   ],
   "source": [
    "grouped_completion_df.loc[179867:179867,]"
   ]
  },
  {
   "cell_type": "code",
   "execution_count": 100,
   "metadata": {},
   "outputs": [],
   "source": [
    "top_attendance_cost_dict = {'Institution':['American University of Health Sciences', 'Landmark College', 'Sarah Lawrence College', 'University of Chicago', 'Washington University in St. Louis' ],\n",
    "                    'COSTT4_A':[72143, 60025, 57240.5, 56392.5, 55731.5],\n",
    "                   'COMP_ORIG_YR4_RT':[0.666667,0.272727, 0.775281,0.846875, 0.834525]}"
   ]
  },
  {
   "cell_type": "code",
   "execution_count": 101,
   "metadata": {},
   "outputs": [
    {
     "data": {
      "text/html": [
       "<div>\n",
       "<style scoped>\n",
       "    .dataframe tbody tr th:only-of-type {\n",
       "        vertical-align: middle;\n",
       "    }\n",
       "\n",
       "    .dataframe tbody tr th {\n",
       "        vertical-align: top;\n",
       "    }\n",
       "\n",
       "    .dataframe thead th {\n",
       "        text-align: right;\n",
       "    }\n",
       "</style>\n",
       "<table border=\"1\" class=\"dataframe\">\n",
       "  <thead>\n",
       "    <tr style=\"text-align: right;\">\n",
       "      <th></th>\n",
       "      <th>Institution</th>\n",
       "      <th>COSTT4_A</th>\n",
       "      <th>COMP_ORIG_YR4_RT</th>\n",
       "    </tr>\n",
       "  </thead>\n",
       "  <tbody>\n",
       "    <tr>\n",
       "      <th>0</th>\n",
       "      <td>American University of Health Sciences</td>\n",
       "      <td>72143.0</td>\n",
       "      <td>0.666667</td>\n",
       "    </tr>\n",
       "    <tr>\n",
       "      <th>1</th>\n",
       "      <td>Landmark College</td>\n",
       "      <td>60025.0</td>\n",
       "      <td>0.272727</td>\n",
       "    </tr>\n",
       "    <tr>\n",
       "      <th>2</th>\n",
       "      <td>Sarah Lawrence College</td>\n",
       "      <td>57240.5</td>\n",
       "      <td>0.775281</td>\n",
       "    </tr>\n",
       "    <tr>\n",
       "      <th>3</th>\n",
       "      <td>University of Chicago</td>\n",
       "      <td>56392.5</td>\n",
       "      <td>0.846875</td>\n",
       "    </tr>\n",
       "    <tr>\n",
       "      <th>4</th>\n",
       "      <td>Washington University in St. Louis</td>\n",
       "      <td>55731.5</td>\n",
       "      <td>0.834525</td>\n",
       "    </tr>\n",
       "  </tbody>\n",
       "</table>\n",
       "</div>"
      ],
      "text/plain": [
       "                              Institution  COSTT4_A  COMP_ORIG_YR4_RT\n",
       "0  American University of Health Sciences   72143.0          0.666667\n",
       "1                        Landmark College   60025.0          0.272727\n",
       "2                  Sarah Lawrence College   57240.5          0.775281\n",
       "3                   University of Chicago   56392.5          0.846875\n",
       "4      Washington University in St. Louis   55731.5          0.834525"
      ]
     },
     "execution_count": 101,
     "metadata": {},
     "output_type": "execute_result"
    }
   ],
   "source": [
    "top_attendance_cost_df = pd.DataFrame.from_dict(top_attendance_cost_dict)\n",
    "top_attendance_cost_df"
   ]
  },
  {
   "cell_type": "code",
   "execution_count": 111,
   "metadata": {},
   "outputs": [
    {
     "data": {
      "image/png": "[encoded data removed]",
      "text/plain": [
       "<Figure size 576x432 with 1 Axes>"
      ]
     },
     "metadata": {
      "needs_background": "light"
     },
     "output_type": "display_data"
    }
   ],
   "source": [
    "fig = plt.figure(figsize = (8,6))\n",
    "ax = fig.add_axes([0,0,1,1])\n",
    "instnm = list(top_attendance_cost_df['Institution'])\n",
    "completion_pct = top_attendance_cost_df['COMP_ORIG_YR4_RT']\n",
    "ax.bar(instnm, completion_pct, color=['C5', 'C6', 'C7', 'C8', 'C9'])\n",
    "plt.xticks(rotation=45, ha='right')\n",
    "plt.title('Colleges w Highest Avg Cost of Attendance')\n",
    "plt.ylabel('4 Year Completion %', fontsize = 14)\n",
    "plt.show()"
   ]
  },
  {
   "cell_type": "code",
   "execution_count": 113,
   "metadata": {},
   "outputs": [
    {
     "data": {
      "text/plain": [
       "count    34593.000000\n",
       "mean         0.325147\n",
       "std          0.206128\n",
       "min          0.000000\n",
       "25%          0.156770\n",
       "50%          0.312364\n",
       "75%          0.460452\n",
       "max          1.000000\n",
       "Name: COMP_ORIG_YR4_RT, dtype: float64"
      ]
     },
     "execution_count": 113,
     "metadata": {},
     "output_type": "execute_result"
    }
   ],
   "source": [
    "processed_top5_feature_df['COMP_ORIG_YR4_RT'].describe()"
   ]
  },
  {
   "cell_type": "code",
   "execution_count": 115,
   "metadata": {},
   "outputs": [
    {
     "data": {
      "text/plain": [
       "count    34593.000000\n",
       "mean     13940.122850\n",
       "std       8559.746839\n",
       "min          0.000000\n",
       "25%       7250.000000\n",
       "50%      12339.000000\n",
       "75%      18400.000000\n",
       "max      49793.000000\n",
       "Name: TUITIONFEE_OUT, dtype: float64"
      ]
     },
     "execution_count": 115,
     "metadata": {},
     "output_type": "execute_result"
    }
   ],
   "source": [
    "processed_top5_feature_df['TUITIONFEE_OUT'].describe()"
   ]
  },
  {
   "cell_type": "code",
   "execution_count": 114,
   "metadata": {},
   "outputs": [
    {
     "data": {
      "text/plain": [
       "count    34593.000000\n",
       "mean     23325.693984\n",
       "std      12000.640937\n",
       "min       2200.000000\n",
       "25%      13209.000000\n",
       "50%      20705.000000\n",
       "75%      30909.000000\n",
       "max      72143.000000\n",
       "Name: COSTT4_A, dtype: float64"
      ]
     },
     "execution_count": 114,
     "metadata": {},
     "output_type": "execute_result"
    }
   ],
   "source": [
    "processed_top5_feature_df['COSTT4_A'].describe()"
   ]
  },
  {
   "cell_type": "markdown",
   "metadata": {},
   "source": [
    "### Model Performance Comparison Graph"
   ]
  },
  {
   "cell_type": "code",
   "execution_count": 1,
   "metadata": {},
   "outputs": [],
   "source": [
    "model_perf_dict = {'Model':['Linear', 'Lasso', 'Ridge', 'Linear SVR', 'Nu SVR', 'Decision Tree', 'Random Forest'],\n",
    "                    'Train':[0.88, 0.49, 0.88, 0, 0.79, 0.85, 0.98],\n",
    "                   'Test':[0,0.49, 0.81,0, 0.72, 0.78, 0.82]}"
   ]
  },
  {
   "cell_type": "code",
   "execution_count": 4,
   "metadata": {},
   "outputs": [
    {
     "data": {
      "text/html": [
       "<div>\n",
       "<style scoped>\n",
       "    .dataframe tbody tr th:only-of-type {\n",
       "        vertical-align: middle;\n",
       "    }\n",
       "\n",
       "    .dataframe tbody tr th {\n",
       "        vertical-align: top;\n",
       "    }\n",
       "\n",
       "    .dataframe thead th {\n",
       "        text-align: right;\n",
       "    }\n",
       "</style>\n",
       "<table border=\"1\" class=\"dataframe\">\n",
       "  <thead>\n",
       "    <tr style=\"text-align: right;\">\n",
       "      <th></th>\n",
       "      <th>Model</th>\n",
       "      <th>Train</th>\n",
       "      <th>Test</th>\n",
       "    </tr>\n",
       "  </thead>\n",
       "  <tbody>\n",
       "    <tr>\n",
       "      <th>0</th>\n",
       "      <td>Linear</td>\n",
       "      <td>0.88</td>\n",
       "      <td>0.00</td>\n",
       "    </tr>\n",
       "    <tr>\n",
       "      <th>1</th>\n",
       "      <td>Lasso</td>\n",
       "      <td>0.49</td>\n",
       "      <td>0.49</td>\n",
       "    </tr>\n",
       "    <tr>\n",
       "      <th>2</th>\n",
       "      <td>Ridge</td>\n",
       "      <td>0.88</td>\n",
       "      <td>0.81</td>\n",
       "    </tr>\n",
       "    <tr>\n",
       "      <th>3</th>\n",
       "      <td>Linear SVR</td>\n",
       "      <td>0.00</td>\n",
       "      <td>0.00</td>\n",
       "    </tr>\n",
       "    <tr>\n",
       "      <th>4</th>\n",
       "      <td>Nu SVR</td>\n",
       "      <td>0.79</td>\n",
       "      <td>0.72</td>\n",
       "    </tr>\n",
       "    <tr>\n",
       "      <th>5</th>\n",
       "      <td>Decision Tree</td>\n",
       "      <td>0.85</td>\n",
       "      <td>0.78</td>\n",
       "    </tr>\n",
       "    <tr>\n",
       "      <th>6</th>\n",
       "      <td>Random Forest</td>\n",
       "      <td>0.98</td>\n",
       "      <td>0.82</td>\n",
       "    </tr>\n",
       "  </tbody>\n",
       "</table>\n",
       "</div>"
      ],
      "text/plain": [
       "           Model  Train  Test\n",
       "0         Linear   0.88  0.00\n",
       "1          Lasso   0.49  0.49\n",
       "2          Ridge   0.88  0.81\n",
       "3     Linear SVR   0.00  0.00\n",
       "4         Nu SVR   0.79  0.72\n",
       "5  Decision Tree   0.85  0.78\n",
       "6  Random Forest   0.98  0.82"
      ]
     },
     "execution_count": 4,
     "metadata": {},
     "output_type": "execute_result"
    }
   ],
   "source": [
    "model_perf_df = pd.DataFrame.from_dict(model_perf_dict)\n",
    "model_perf_df"
   ]
  },
  {
   "cell_type": "code",
   "execution_count": 168,
   "metadata": {},
   "outputs": [],
   "source": [
    "train_values = [a for a in model_perf_df['Train']]\n",
    "x_ticks = list(range(1,len(model_perf_df)+1))\n",
    "x_labels = [a for a in model_perf_df['Model']]"
   ]
  },
  {
   "cell_type": "code",
   "execution_count": 169,
   "metadata": {},
   "outputs": [
    {
     "data": {
      "text/plain": [
       "['Linear',\n",
       " 'Lasso',\n",
       " 'Ridge',\n",
       " 'Linear SVR',\n",
       " 'Nu SVR',\n",
       " 'Decision Tree',\n",
       " 'Random Forest']"
      ]
     },
     "execution_count": 169,
     "metadata": {},
     "output_type": "execute_result"
    }
   ],
   "source": [
    "x_labels"
   ]
  },
  {
   "cell_type": "code",
   "execution_count": 170,
   "metadata": {},
   "outputs": [
    {
     "data": {
      "text/plain": [
       "[1, 2, 3, 4, 5, 6, 7]"
      ]
     },
     "execution_count": 170,
     "metadata": {},
     "output_type": "execute_result"
    }
   ],
   "source": [
    "x_ticks"
   ]
  },
  {
   "cell_type": "code",
   "execution_count": 171,
   "metadata": {},
   "outputs": [
    {
     "data": {
      "image/png": "[encoded data removed]",
      "text/plain": [
       "<Figure size 720x432 with 1 Axes>"
      ]
     },
     "metadata": {
      "needs_background": "light"
     },
     "output_type": "display_data"
    }
   ],
   "source": [
    "fig,ax = plt.subplots(figsize=(10,6))\n",
    "\n",
    "ax.bar(x_ticks,train_values)\n",
    "\n",
    "\n",
    "ax.set_xticklabels(x_labels);\n"
   ]
  },
  {
   "cell_type": "code",
   "execution_count": 150,
   "metadata": {},
   "outputs": [
    {
     "data": {
      "image/png": "[encoded data removed]",
      "text/plain": [
       "<Figure size 576x432 with 1 Axes>"
      ]
     },
     "metadata": {
      "needs_background": "light"
     },
     "output_type": "display_data"
    }
   ],
   "source": [
    "fig = plt.figure(figsize = (8,6))\n",
    "ax = fig.add_axes([0,0,1,1])\n",
    "model = list(model_perf_df['Model'])\n",
    "train = model_perf_df['Train']\n",
    "test = model_perf_df['Test']\n",
    "ax.bar(instnm, train)\n",
    "plt.xticks(rotation=45, ha='right')\n",
    "plt.title('Regression Model - Train Score Performance Comparision')\n",
    "plt.ylabel('Percentage', fontsize = 14)\n",
    "plt.show()"
   ]
  },
  {
   "cell_type": "code",
   "execution_count": 152,
   "metadata": {},
   "outputs": [
    {
     "data": {
      "image/png": "[encoded data removed]",
      "text/plain": [
       "<Figure size 576x432 with 1 Axes>"
      ]
     },
     "metadata": {
      "needs_background": "light"
     },
     "output_type": "display_data"
    }
   ],
   "source": [
    "fig = plt.figure(figsize = (8,6))\n",
    "ax = fig.add_axes([0,0,1,1])\n",
    "model = list(model_perf_df['Model'])\n",
    "train = model_perf_df['Train']\n",
    "test = model_perf_df['Test']\n",
    "ax.bar(instnm, test, color='C1')\n",
    "plt.xticks(rotation=45, ha='right')\n",
    "plt.title('Regression Model - Train Score Performance Comparision')\n",
    "plt.ylabel('Percentage', fontsize = 14)\n",
    "plt.show()"
   ]
  },
  {
   "cell_type": "code",
   "execution_count": 11,
   "metadata": {},
   "outputs": [
    {
     "data": {
      "image/png": "[encoded data removed]",
      "text/plain": [
       "<Figure size 720x432 with 1 Axes>"
      ]
     },
     "metadata": {
      "needs_background": "light"
     },
     "output_type": "display_data"
    }
   ],
   "source": [
    "fig,ax = plt.subplots(figsize=(10,6))\n",
    "\n",
    "labels = ['Linear Train','Linear Test',\n",
    "         'Lasso Train','Lasso Test',\n",
    "         'Ridge Train','Ridge Test',\n",
    "        'Linear SVR Train','Linear SVR Test',\n",
    "        'Nu SVR Train','Nu SVR Test',\n",
    "         'Decision Tree Train','Decision Tree Test',\n",
    "         'Random Forest Train','Random Forest Test']\n",
    "\n",
    "# Linear\n",
    "#Linear train result\n",
    "linear_train_pos = 1\n",
    "linear_train = model_perf_df['Train'][0]\n",
    "ax.bar(linear_train_pos,linear_train,0.5,color='blue')\n",
    "#Linear test result\n",
    "linear_train_pos = 2\n",
    "linear_train = model_perf_df['Test'][0]\n",
    "ax.bar(linear_train_pos,linear_train,0.5,color='blue')\n",
    "########################################################################\n",
    "# Lasso\n",
    "#Lasso train result\n",
    "lasso_train_pos = 3\n",
    "lasso_train = model_perf_df['Train'][1]\n",
    "ax.bar(lasso_train_pos,lasso_train,0.5,color='orange')\n",
    "#Lasso test result\n",
    "lasso_train_pos = 4\n",
    "lasso_train = model_perf_df['Test'][1]\n",
    "ax.bar(lasso_train_pos,lasso_train,0.5,color='orange')\n",
    "########################################################################\n",
    "# RIdge\n",
    "#ridge train result\n",
    "ridge_train_pos = 5\n",
    "ridge_train = model_perf_df['Train'][2]\n",
    "ax.bar(ridge_train_pos,ridge_train,0.5,color='salmon')\n",
    "#Lasso test result\n",
    "ridge_train_pos = 6\n",
    "ridge_train = model_perf_df['Test'][2]\n",
    "ax.bar(ridge_train_pos,ridge_train,0.5,color='salmon')\n",
    "########################################################################\n",
    "# Lasso\n",
    "#Lasso train result\n",
    "linear_svr_train_pos = 7\n",
    "linear_svr_train = model_perf_df['Train'][3]\n",
    "ax.bar(linear_svr_train_pos,linear_svr_train,0.5,color='indigo')\n",
    "#Lasso test result\n",
    "linear_svr_train_pos = 8\n",
    "linear_svr_train = model_perf_df['Test'][3]\n",
    "ax.bar(linear_svr_train_pos,linear_svr_train,0.5,color='indigo')\n",
    "########################################################################\n",
    "# Lasso\n",
    "#Lasso train result\n",
    "nu_svr_train_pos = 9\n",
    "nu_svr_train = model_perf_df['Train'][4]\n",
    "ax.bar(nu_svr_train_pos,nu_svr_train,0.5,color='olive')\n",
    "#Lasso test result\n",
    "nu_svr_train_pos = 10\n",
    "nu_svr_train = model_perf_df['Test'][4]\n",
    "ax.bar(nu_svr_train_pos,nu_svr_train,0.5,color='olive')\n",
    "########################################################################\n",
    "# Lasso\n",
    "#Lasso train result\n",
    "dt_train_pos = 11\n",
    "dt_train = model_perf_df['Train'][5]\n",
    "ax.bar(dt_train_pos,dt_train,0.5,color='limegreen')\n",
    "#Lasso test result\n",
    "dt_train_pos = 12\n",
    "dt_train = model_perf_df['Test'][5]\n",
    "ax.bar(dt_train_pos,dt_train,0.5,color='limegreen')\n",
    "########################################################################\n",
    "# Lasso\n",
    "#Lasso train result\n",
    "rf_train_pos = 13\n",
    "rf_train = model_perf_df['Train'][6]\n",
    "ax.bar(rf_train_pos,rf_train,0.5,color='lightblue')\n",
    "#Lasso test result\n",
    "rf_train_pos = 14\n",
    "rf_train = model_perf_df['Test'][6]\n",
    "ax.bar(rf_train_pos,rf_train,0.5,color='lightblue')\n",
    "ax.set_xticks([1,2,3,4,5,6,7,8,9,10,11,12,13,14])\n",
    "ax.set_xticklabels(labels,rotation = 45,ha='right');"
   ]
  }
 ],
 "metadata": {
  "kernelspec": {
   "display_name": "Python (learn-env)",
   "language": "python",
   "name": "learn-env"
  },
  "language_info": {
   "codemirror_mode": {
    "name": "ipython",
    "version": 3
   },
   "file_extension": ".py",
   "mimetype": "text/x-python",
   "name": "python",
   "nbconvert_exporter": "python",
   "pygments_lexer": "ipython3",
   "version": "3.8.5"
  }
 },
 "nbformat": 4,
 "nbformat_minor": 4
}
