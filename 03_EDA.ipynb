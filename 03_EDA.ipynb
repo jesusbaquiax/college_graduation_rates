{
 "cells": [
  {
   "cell_type": "code",
   "execution_count": 1,
   "metadata": {},
   "outputs": [],
   "source": [
    "import pandas as pd\n",
    "import numpy as np\n",
    "import seaborn as sns\n",
    "import sqlite3\n",
    "import matplotlib.pyplot as plt\n",
    "%matplotlib inline\n",
    "pd.options.display.max_columns = None\n",
    "pd.options.display.max_rows = None\n",
    "from sklearn.dummy import DummyClassifier, DummyRegressor\n",
    "from sklearn.model_selection import train_test_split\n",
    "from sklearn.linear_model import LinearRegression\n",
    "from sklearn.preprocessing import OneHotEncoder\n",
    "from sklearn.impute import KNNImputer\n",
    "np.random.seed(9)"
   ]
  },
  {
   "cell_type": "code",
   "execution_count": 2,
   "metadata": {},
   "outputs": [],
   "source": [
    "conn = sqlite3.connect('data/database.sqlite')\n",
    "cur = conn.cursor()\n",
    "\n",
    "final_df = pd.read_sql(\"\"\"\n",
    "SELECT Id, UNITID, COMP_ORIG_YR4_RT, ZIP, CITY, SATMTMID, SATMT25, SATMT75, SAT_AVG_ALL,\n",
    "ACTEN25, PCIP45, PCIP54, PCIP23, PCIP27, PCIP16, CIP51BACHL, CIP26BACHL, CIP29CERT4,\n",
    "CIP25CERT4, CIP10CERT4, UGDS_NRA, UGDS_ASIAN, UGDS_UNKN, UGDS_API, UGDS, \n",
    "TUITIONFEE_OUT, COSTT4_A, TUITIONFEE_IN, NPT45_PUB, NPT4_75UP_PUB, CUML_DEBT_P10, CUML_DEBT_P25, \n",
    "DEBT_MDN, CUML_DEBT_P75, IND_DEBT_MDN, COMP_ORIG_YR2_RT, LOAN_COMP_ORIG_YR2_RT,\n",
    "COMP_ORIG_YR3_RT, LOAN_COMP_ORIG_YR3_RT, MALE_COMP_ORIG_YR2_RT, MD_INC_RPY_1YR_RT,\n",
    " HI_INC_RPY_3YR_RT, HI_INC_RPY_1YR_RT, MD_INC_RPY_5YR_RT, NOPELL_RPY_1YR_RT, pct10_earn_wne_p10,\n",
    " mn_earn_wne_male1_p10, mn_earn_wne_indep0_p6, mn_earn_wne_inc1_p10, pct25_earn_wne_p10\n",
    "FROM Scorecard \n",
    "WHERE year BETWEEN 2002 AND 2012\n",
    "AND CURROPER = \"Currently certified as operating\"\n",
    "AND PREDDEG in (\"Predominantly bachelor's-degree granting\", \n",
    "                \"Predominantly associate's-degree granting\")\n",
    ";\n",
    "\"\"\", conn, index_col='Id')"
   ]
  },
  {
   "cell_type": "code",
   "execution_count": 4,
   "metadata": {},
   "outputs": [],
   "source": [
    "final_df = final_df.replace('PrivacySuppressed', np.nan, regex=True)"
   ]
  },
  {
   "cell_type": "code",
   "execution_count": null,
   "metadata": {},
   "outputs": [],
   "source": []
  }
 ],
 "metadata": {
  "kernelspec": {
   "display_name": "Python (learn-env)",
   "language": "python",
   "name": "learn-env"
  },
  "language_info": {
   "codemirror_mode": {
    "name": "ipython",
    "version": 3
   },
   "file_extension": ".py",
   "mimetype": "text/x-python",
   "name": "python",
   "nbconvert_exporter": "python",
   "pygments_lexer": "ipython3",
   "version": "3.8.5"
  }
 },
 "nbformat": 4,
 "nbformat_minor": 4
}
