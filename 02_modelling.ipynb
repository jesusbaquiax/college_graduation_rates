{
 "cells": [
  {
   "cell_type": "code",
   "execution_count": 124,
   "metadata": {},
   "outputs": [],
   "source": [
    "import os\n",
    "import pandas as pd\n",
    "import numpy as np\n",
    "from sklearn.model_selection import train_test_split\n",
    "from sklearn.linear_model import LinearRegression\n",
    "from sklearn.linear_model import Lasso, Ridge\n",
    "from sklearn.dummy import DummyRegressor\n",
    "from sklearn.svm import LinearSVR\n",
    "from sklearn.preprocessing import StandardScaler, PolynomialFeatures\n",
    "from sklearn.pipeline import Pipeline\n",
    "\n",
    "import matplotlib.pyplot as plt\n",
    "%matplotlib inline\n",
    "import sqlite3\n",
    "from sklearn.impute import KNNImputer\n",
    "\n",
    "np.random.seed(9)"
   ]
  },
  {
   "cell_type": "code",
   "execution_count": 74,
   "metadata": {},
   "outputs": [],
   "source": [
    "#  functions & pipelines\n",
    "\n",
    "def score_printer(inst, Xtr, ytr, Xte, yte):\n",
    "    return print(f\" Train score: {inst.score(Xtr, ytr)}, Test Score: {inst.score(Xte, yte)}\")\n",
    "\n",
    "linreg_pipeline = Pipeline([('linreg', LinearRegression())])\n",
    "lasso_pipeline = Pipeline([('lasso',Lasso(random_state=42))])\n",
    "ridge_pipeline = Pipeline([('ridge',Ridge(random_state=42))])"
   ]
  },
  {
   "cell_type": "code",
   "execution_count": 2,
   "metadata": {},
   "outputs": [],
   "source": [
    "unpickled_df = pd.read_pickle(\"./data/processed_final_df.pkl\")"
   ]
  },
  {
   "cell_type": "code",
   "execution_count": 3,
   "metadata": {},
   "outputs": [
    {
     "data": {
      "text/plain": [
       "(34593, 9564)"
      ]
     },
     "execution_count": 3,
     "metadata": {},
     "output_type": "execute_result"
    }
   ],
   "source": [
    "unpickled_df.shape"
   ]
  },
  {
   "cell_type": "code",
   "execution_count": 4,
   "metadata": {},
   "outputs": [
    {
     "data": {
      "text/html": [
       "<div>\n",
       "<style scoped>\n",
       "    .dataframe tbody tr th:only-of-type {\n",
       "        vertical-align: middle;\n",
       "    }\n",
       "\n",
       "    .dataframe tbody tr th {\n",
       "        vertical-align: top;\n",
       "    }\n",
       "\n",
       "    .dataframe thead th {\n",
       "        text-align: right;\n",
       "    }\n",
       "</style>\n",
       "<table border=\"1\" class=\"dataframe\">\n",
       "  <thead>\n",
       "    <tr style=\"text-align: right;\">\n",
       "      <th></th>\n",
       "      <th>UNITID</th>\n",
       "      <th>SATMTMID</th>\n",
       "      <th>SATMT25</th>\n",
       "      <th>SATMT75</th>\n",
       "      <th>SAT_AVG_ALL</th>\n",
       "      <th>ACTEN25</th>\n",
       "      <th>PCIP45</th>\n",
       "      <th>PCIP54</th>\n",
       "      <th>PCIP23</th>\n",
       "      <th>PCIP27</th>\n",
       "      <th>...</th>\n",
       "      <th>CIP51BACHL_2</th>\n",
       "      <th>CIP26BACHL_1</th>\n",
       "      <th>CIP26BACHL_2</th>\n",
       "      <th>CIP29CERT4_1</th>\n",
       "      <th>CIP29CERT4_2</th>\n",
       "      <th>CIP25CERT4_1</th>\n",
       "      <th>CIP25CERT4_2</th>\n",
       "      <th>CIP10CERT4_1</th>\n",
       "      <th>CIP10CERT4_2</th>\n",
       "      <th>COMP_ORIG_YR4_RT</th>\n",
       "    </tr>\n",
       "  </thead>\n",
       "  <tbody>\n",
       "    <tr>\n",
       "      <th>0</th>\n",
       "      <td>100654.0</td>\n",
       "      <td>417.5</td>\n",
       "      <td>370.0</td>\n",
       "      <td>465.0</td>\n",
       "      <td>850.0</td>\n",
       "      <td>15.0</td>\n",
       "      <td>0.0465</td>\n",
       "      <td>0.0039</td>\n",
       "      <td>0.0058</td>\n",
       "      <td>0.0136</td>\n",
       "      <td>...</td>\n",
       "      <td>0</td>\n",
       "      <td>1</td>\n",
       "      <td>0</td>\n",
       "      <td>0</td>\n",
       "      <td>0</td>\n",
       "      <td>0</td>\n",
       "      <td>0</td>\n",
       "      <td>0</td>\n",
       "      <td>0</td>\n",
       "      <td>0.214286</td>\n",
       "    </tr>\n",
       "    <tr>\n",
       "      <th>1</th>\n",
       "      <td>100663.0</td>\n",
       "      <td>570.0</td>\n",
       "      <td>500.0</td>\n",
       "      <td>640.0</td>\n",
       "      <td>1030.0</td>\n",
       "      <td>19.0</td>\n",
       "      <td>0.0435</td>\n",
       "      <td>0.0374</td>\n",
       "      <td>0.0251</td>\n",
       "      <td>0.0049</td>\n",
       "      <td>...</td>\n",
       "      <td>0</td>\n",
       "      <td>1</td>\n",
       "      <td>0</td>\n",
       "      <td>0</td>\n",
       "      <td>0</td>\n",
       "      <td>0</td>\n",
       "      <td>0</td>\n",
       "      <td>0</td>\n",
       "      <td>0</td>\n",
       "      <td>0.385975</td>\n",
       "    </tr>\n",
       "    <tr>\n",
       "      <th>2</th>\n",
       "      <td>100690.0</td>\n",
       "      <td>585.0</td>\n",
       "      <td>445.0</td>\n",
       "      <td>725.0</td>\n",
       "      <td>963.5</td>\n",
       "      <td>14.5</td>\n",
       "      <td>0.0000</td>\n",
       "      <td>0.0000</td>\n",
       "      <td>0.0000</td>\n",
       "      <td>0.0000</td>\n",
       "      <td>...</td>\n",
       "      <td>0</td>\n",
       "      <td>0</td>\n",
       "      <td>0</td>\n",
       "      <td>0</td>\n",
       "      <td>0</td>\n",
       "      <td>0</td>\n",
       "      <td>0</td>\n",
       "      <td>0</td>\n",
       "      <td>0</td>\n",
       "      <td>0.454545</td>\n",
       "    </tr>\n",
       "    <tr>\n",
       "      <th>3</th>\n",
       "      <td>100706.0</td>\n",
       "      <td>575.0</td>\n",
       "      <td>510.0</td>\n",
       "      <td>640.0</td>\n",
       "      <td>1129.0</td>\n",
       "      <td>21.0</td>\n",
       "      <td>0.0246</td>\n",
       "      <td>0.0055</td>\n",
       "      <td>0.0355</td>\n",
       "      <td>0.0041</td>\n",
       "      <td>...</td>\n",
       "      <td>0</td>\n",
       "      <td>1</td>\n",
       "      <td>0</td>\n",
       "      <td>0</td>\n",
       "      <td>0</td>\n",
       "      <td>0</td>\n",
       "      <td>0</td>\n",
       "      <td>0</td>\n",
       "      <td>0</td>\n",
       "      <td>0.236842</td>\n",
       "    </tr>\n",
       "    <tr>\n",
       "      <th>4</th>\n",
       "      <td>100724.0</td>\n",
       "      <td>400.0</td>\n",
       "      <td>340.0</td>\n",
       "      <td>460.0</td>\n",
       "      <td>784.0</td>\n",
       "      <td>13.0</td>\n",
       "      <td>0.0172</td>\n",
       "      <td>0.0123</td>\n",
       "      <td>0.0025</td>\n",
       "      <td>0.0098</td>\n",
       "      <td>...</td>\n",
       "      <td>0</td>\n",
       "      <td>1</td>\n",
       "      <td>0</td>\n",
       "      <td>0</td>\n",
       "      <td>0</td>\n",
       "      <td>0</td>\n",
       "      <td>0</td>\n",
       "      <td>0</td>\n",
       "      <td>0</td>\n",
       "      <td>0.117182</td>\n",
       "    </tr>\n",
       "  </tbody>\n",
       "</table>\n",
       "<p>5 rows × 9564 columns</p>\n",
       "</div>"
      ],
      "text/plain": [
       "     UNITID  SATMTMID  SATMT25  SATMT75  SAT_AVG_ALL  ACTEN25  PCIP45  PCIP54  \\\n",
       "0  100654.0     417.5    370.0    465.0        850.0     15.0  0.0465  0.0039   \n",
       "1  100663.0     570.0    500.0    640.0       1030.0     19.0  0.0435  0.0374   \n",
       "2  100690.0     585.0    445.0    725.0        963.5     14.5  0.0000  0.0000   \n",
       "3  100706.0     575.0    510.0    640.0       1129.0     21.0  0.0246  0.0055   \n",
       "4  100724.0     400.0    340.0    460.0        784.0     13.0  0.0172  0.0123   \n",
       "\n",
       "   PCIP23  PCIP27  ...  CIP51BACHL_2  CIP26BACHL_1  CIP26BACHL_2  \\\n",
       "0  0.0058  0.0136  ...             0             1             0   \n",
       "1  0.0251  0.0049  ...             0             1             0   \n",
       "2  0.0000  0.0000  ...             0             0             0   \n",
       "3  0.0355  0.0041  ...             0             1             0   \n",
       "4  0.0025  0.0098  ...             0             1             0   \n",
       "\n",
       "   CIP29CERT4_1  CIP29CERT4_2  CIP25CERT4_1  CIP25CERT4_2  CIP10CERT4_1  \\\n",
       "0             0             0             0             0             0   \n",
       "1             0             0             0             0             0   \n",
       "2             0             0             0             0             0   \n",
       "3             0             0             0             0             0   \n",
       "4             0             0             0             0             0   \n",
       "\n",
       "   CIP10CERT4_2  COMP_ORIG_YR4_RT  \n",
       "0             0          0.214286  \n",
       "1             0          0.385975  \n",
       "2             0          0.454545  \n",
       "3             0          0.236842  \n",
       "4             0          0.117182  \n",
       "\n",
       "[5 rows x 9564 columns]"
      ]
     },
     "execution_count": 4,
     "metadata": {},
     "output_type": "execute_result"
    }
   ],
   "source": [
    "unpickled_df.head()"
   ]
  },
  {
   "cell_type": "markdown",
   "metadata": {},
   "source": [
    "# Train_Test_Split"
   ]
  },
  {
   "cell_type": "code",
   "execution_count": 5,
   "metadata": {},
   "outputs": [
    {
     "data": {
      "text/plain": [
       "((34593, 9563), (34593,))"
      ]
     },
     "execution_count": 5,
     "metadata": {},
     "output_type": "execute_result"
    }
   ],
   "source": [
    "X = unpickled_df.drop('COMP_ORIG_YR4_RT', axis=1).copy()\n",
    "y = unpickled_df['COMP_ORIG_YR4_RT']\n",
    "X.shape, y.shape"
   ]
  },
  {
   "cell_type": "code",
   "execution_count": 6,
   "metadata": {},
   "outputs": [],
   "source": [
    "X_train, X_test, y_train, y_test = train_test_split(X, y, test_size=0.2, random_state=42)"
   ]
  },
  {
   "cell_type": "markdown",
   "metadata": {},
   "source": [
    "# Baseline Model"
   ]
  },
  {
   "cell_type": "code",
   "execution_count": 7,
   "metadata": {},
   "outputs": [
    {
     "data": {
      "text/plain": [
       "-0.004003885233955451"
      ]
     },
     "execution_count": 7,
     "metadata": {},
     "output_type": "execute_result"
    }
   ],
   "source": [
    "dr = DummyRegressor(strategy='median')\n",
    "dr.fit(X_train, y_train)\n",
    "dr.predict(X_train)\n",
    "dr.score(X_train, y_train)"
   ]
  },
  {
   "cell_type": "markdown",
   "metadata": {},
   "source": [
    "# Model 1: Simple Basic Model"
   ]
  },
  {
   "cell_type": "code",
   "execution_count": 82,
   "metadata": {},
   "outputs": [
    {
     "name": "stdout",
     "output_type": "stream",
     "text": [
      " Train score: 0.889510058917237, Test Score: 0.8005050761983334\n"
     ]
    }
   ],
   "source": [
    "linreg_pipeline.fit(X_train, y_train)\n",
    "score_printer(linreg_pipeline, X_train, y_train, X_test, y_test)"
   ]
  },
  {
   "cell_type": "code",
   "execution_count": 83,
   "metadata": {},
   "outputs": [
    {
     "name": "stdout",
     "output_type": "stream",
     "text": [
      " Train score: 0.48826376668175187, Test Score: 0.4922897284143569\n"
     ]
    }
   ],
   "source": [
    "lasso_pipeline.fit(X_train, y_train)\n",
    "score_printer(lasso_pipeline, X_train, y_train, X_test, y_test)"
   ]
  },
  {
   "cell_type": "code",
   "execution_count": 81,
   "metadata": {},
   "outputs": [
    {
     "name": "stdout",
     "output_type": "stream",
     "text": [
      " Train score: 0.8820102732543174, Test Score: 0.8108656759129569\n"
     ]
    }
   ],
   "source": [
    "ridge_pipeline.fit(X_train, y_train)\n",
    "score_printer(ridge_pipeline, X_train, y_train, X_test, y_test)"
   ]
  },
  {
   "cell_type": "markdown",
   "metadata": {},
   "source": [
    "The running time is the longest with this, but has provided the best scores. Will Use all the features to continue modelling and adjust parameters to reduce overfitting."
   ]
  },
  {
   "cell_type": "markdown",
   "metadata": {},
   "source": [
    "# Model 1a:\n",
    "## Trying different models"
   ]
  },
  {
   "cell_type": "code",
   "execution_count": null,
   "metadata": {},
   "outputs": [],
   "source": [
    "trying the polynomial was too time consuming so paused it."
   ]
  },
  {
   "cell_type": "code",
   "execution_count": 128,
   "metadata": {},
   "outputs": [],
   "source": [
    "# poly = PolynomialFeatures(3)\n",
    "# X_fin = poly.fit_transform(X)"
   ]
  },
  {
   "cell_type": "code",
   "execution_count": null,
   "metadata": {},
   "outputs": [],
   "source": [
    "linsvr = LinearSVR(random_state=42,  max_iter=1000000)\n",
    "linsvr.fit(X_train, y_train)"
   ]
  },
  {
   "cell_type": "code",
   "execution_count": null,
   "metadata": {},
   "outputs": [],
   "source": [
    "score_printer(linsvr, X_train, y_train, X_test, y_test)"
   ]
  },
  {
   "cell_type": "code",
   "execution_count": null,
   "metadata": {},
   "outputs": [],
   "source": []
  },
  {
   "cell_type": "code",
   "execution_count": null,
   "metadata": {},
   "outputs": [],
   "source": []
  },
  {
   "cell_type": "code",
   "execution_count": null,
   "metadata": {},
   "outputs": [],
   "source": []
  },
  {
   "cell_type": "markdown",
   "metadata": {},
   "source": [
    "# Modelling Approach  2: \n",
    "## Models w top feature from each category"
   ]
  },
  {
   "cell_type": "code",
   "execution_count": 11,
   "metadata": {},
   "outputs": [],
   "source": [
    "top_features = ['ZIP_60616-3878', 'SATMTMID', 'PCIP45', 'CIP51BACHL_1', 'UGDS_NRA', 'TUITIONFEE_OUT', 'CUML_DEBT_P10', 'COMP_ORIG_YR2_RT','MD_INC_RPY_1YR_RT','pct10_earn_wne_p10']"
   ]
  },
  {
   "cell_type": "code",
   "execution_count": 32,
   "metadata": {},
   "outputs": [],
   "source": [
    "X2 = unpickled_df[top_features]\n",
    "Y2 = unpickled_df['COMP_ORIG_YR4_RT']"
   ]
  },
  {
   "cell_type": "code",
   "execution_count": 33,
   "metadata": {},
   "outputs": [],
   "source": [
    "X_train2, X_test2, y_train2, y_test2 = train_test_split(X2, Y2, test_size=0.2, random_state=42)"
   ]
  },
  {
   "cell_type": "code",
   "execution_count": 75,
   "metadata": {},
   "outputs": [
    {
     "name": "stdout",
     "output_type": "stream",
     "text": [
      " Train score: 0.6313544569849286, Test Score: 0.6177837185384083\n"
     ]
    }
   ],
   "source": [
    "linreg_pipeline.fit(X_train2, y_train2)\n",
    "score_printer(linreg_pipeline, X_train2, y_train2, X_test2, y_test2)"
   ]
  },
  {
   "cell_type": "code",
   "execution_count": 70,
   "metadata": {},
   "outputs": [
    {
     "name": "stdout",
     "output_type": "stream",
     "text": [
      " Train score: 0.4348021530246138, Test Score: 0.4281706225146684\n"
     ]
    }
   ],
   "source": [
    "lasso_pipeline.fit(X_train2, y_train2)\n",
    "score_printer(lasso_pipeline, X_train2, y_train2, X_test2, y_test2)"
   ]
  },
  {
   "cell_type": "code",
   "execution_count": 69,
   "metadata": {},
   "outputs": [
    {
     "name": "stdout",
     "output_type": "stream",
     "text": [
      " Train score: 0.6313461414048559, Test Score: 0.6177964386509815\n"
     ]
    }
   ],
   "source": [
    "ridge_pipeline.fit(X_train2, y_train2)\n",
    "score_printer(ridge_pipeline, X_train2, y_train2, X_test2, y_test2)"
   ]
  },
  {
   "cell_type": "code",
   "execution_count": null,
   "metadata": {},
   "outputs": [],
   "source": []
  },
  {
   "cell_type": "markdown",
   "metadata": {},
   "source": [
    "# Model 2A:\n",
    "## add 2nd top feature from each category"
   ]
  },
  {
   "cell_type": "code",
   "execution_count": 84,
   "metadata": {},
   "outputs": [],
   "source": [
    "second_top_feature = ['ZIP_97230-3099', 'SATMT25', 'PCIP54', 'CIP26BACHL_1', 'UGDS_ASIAN', 'COSTT4_A', 'CUML_DEBT_P25', 'LOAN_COMP_ORIG_YR2_RT', 'HI_INC_RPY_3YR_RT', 'mn_earn_wne_male1_p10']"
   ]
  },
  {
   "cell_type": "code",
   "execution_count": 85,
   "metadata": {},
   "outputs": [],
   "source": [
    "first_second_features = top_features + second_top_feature"
   ]
  },
  {
   "cell_type": "code",
   "execution_count": 86,
   "metadata": {},
   "outputs": [],
   "source": [
    "X2a = unpickled_df[first_second_features]\n",
    "Y2a = unpickled_df['COMP_ORIG_YR4_RT']"
   ]
  },
  {
   "cell_type": "code",
   "execution_count": 87,
   "metadata": {},
   "outputs": [],
   "source": [
    "X_train2a, X_test2a, y_train2a, y_test2a = train_test_split(X2a, Y2a, test_size=0.2, random_state=42)"
   ]
  },
  {
   "cell_type": "code",
   "execution_count": 88,
   "metadata": {},
   "outputs": [
    {
     "name": "stdout",
     "output_type": "stream",
     "text": [
      " Train score: 0.6468685176721847, Test Score: 0.6390543556877776\n"
     ]
    }
   ],
   "source": [
    "linreg_pipeline.fit(X_train2a, y_train2a)\n",
    "score_printer(linreg_pipeline, X_train2a, y_train2a, X_test2a, y_test2a)"
   ]
  },
  {
   "cell_type": "code",
   "execution_count": 89,
   "metadata": {},
   "outputs": [
    {
     "name": "stdout",
     "output_type": "stream",
     "text": [
      " Train score: 0.45399978653578243, Test Score: 0.4563298807210854\n"
     ]
    }
   ],
   "source": [
    "lasso_pipeline.fit(X_train2a, y_train2a)\n",
    "score_printer(lasso_pipeline, X_train2a, y_train2a, X_test2a, y_test2a)"
   ]
  },
  {
   "cell_type": "code",
   "execution_count": 90,
   "metadata": {},
   "outputs": [
    {
     "name": "stdout",
     "output_type": "stream",
     "text": [
      " Train score: 0.6467788110047553, Test Score: 0.6390686037316503\n"
     ]
    }
   ],
   "source": [
    "ridge_pipeline.fit(X_train2a, y_train2a)\n",
    "score_printer(ridge_pipeline, X_train2a, y_train2a, X_test2a, y_test2a)"
   ]
  },
  {
   "cell_type": "markdown",
   "metadata": {},
   "source": [
    "# Model 2b\n",
    "Add 3rd top feature from each category"
   ]
  },
  {
   "cell_type": "code",
   "execution_count": 91,
   "metadata": {},
   "outputs": [],
   "source": [
    "third_top_feature = ['ZIP_38104-2211', 'SATMT75', 'PCIP23', 'CIP29CERT4_2', 'UGDS_UNKN', 'TUITIONFEE_IN', 'DEBT_MDN', 'COMP_ORIG_YR3_RT', 'HI_INC_RPY_1YR_RT', 'mn_earn_wne_indep0_p6']"
   ]
  },
  {
   "cell_type": "code",
   "execution_count": 92,
   "metadata": {},
   "outputs": [],
   "source": [
    "first_second_third = top_features + second_top_feature + third_top_feature"
   ]
  },
  {
   "cell_type": "code",
   "execution_count": 93,
   "metadata": {},
   "outputs": [],
   "source": [
    "X2b = unpickled_df[first_second_features]\n",
    "Y2b = unpickled_df['COMP_ORIG_YR4_RT']"
   ]
  },
  {
   "cell_type": "code",
   "execution_count": 94,
   "metadata": {},
   "outputs": [],
   "source": [
    "X_train2b, X_test2b, y_train2b, y_test2b = train_test_split(X2b, Y2b, test_size=0.2, random_state=42)"
   ]
  },
  {
   "cell_type": "code",
   "execution_count": 95,
   "metadata": {},
   "outputs": [
    {
     "name": "stdout",
     "output_type": "stream",
     "text": [
      " Train score: 0.6468685176721847, Test Score: 0.6390543556877776\n"
     ]
    }
   ],
   "source": [
    "linreg_pipeline.fit(X_train2b, y_train2b)\n",
    "score_printer(linreg_pipeline, X_train2b, y_train2b, X_test2b, y_test2b)"
   ]
  },
  {
   "cell_type": "code",
   "execution_count": 96,
   "metadata": {},
   "outputs": [
    {
     "name": "stdout",
     "output_type": "stream",
     "text": [
      " Train score: 0.45399978653578243, Test Score: 0.4563298807210854\n"
     ]
    }
   ],
   "source": [
    "lasso_pipeline.fit(X_train2b, y_train2b)\n",
    "score_printer(lasso_pipeline, X_train2b, y_train2b, X_test2b, y_test2b)"
   ]
  },
  {
   "cell_type": "code",
   "execution_count": 97,
   "metadata": {},
   "outputs": [
    {
     "name": "stdout",
     "output_type": "stream",
     "text": [
      " Train score: 0.6467788110047553, Test Score: 0.6390686037316503\n"
     ]
    }
   ],
   "source": [
    "ridge_pipeline.fit(X_train2b, y_train2b)\n",
    "score_printer(ridge_pipeline, X_train2b, y_train2b, X_test2b, y_test2b)"
   ]
  },
  {
   "cell_type": "markdown",
   "metadata": {},
   "source": [
    "It seems that adding features in this method doesn't significantly improve the score for each model."
   ]
  },
  {
   "cell_type": "markdown",
   "metadata": {},
   "source": [
    "# Model Approach 3: \n",
    "## Model w features from top 3 categories"
   ]
  },
  {
   "cell_type": "code",
   "execution_count": 17,
   "metadata": {},
   "outputs": [],
   "source": [
    "top_3_cat_features = ['TUITIONFEE_OUT', 'COSTT4_A', 'TUITIONFEE_IN', 'NPT45_PUB', 'NPT4_75UP_PUB', 'PCIP45', 'PCIP54', 'PCIP23', 'PCIP27', 'PCIP16', 'PCIP45', 'PCIP54', 'PCIP23', 'PCIP27', 'PCIP16', 'ZIP_60616-3878', 'ZIP_97230-3099', 'ZIP_38104-2211', 'ZIP_2115', 'CITY_Seneca Falls']"
   ]
  },
  {
   "cell_type": "code",
   "execution_count": 19,
   "metadata": {},
   "outputs": [],
   "source": [
    "X3 = unpickled_df[top_3_cat_features]\n",
    "Y3 = unpickled_df['COMP_ORIG_YR4_RT']"
   ]
  },
  {
   "cell_type": "code",
   "execution_count": 21,
   "metadata": {},
   "outputs": [],
   "source": [
    "X_train3, X_test3, y_train3, y_test3 = train_test_split(X3, Y3, test_size=0.2, random_state=42)"
   ]
  },
  {
   "cell_type": "code",
   "execution_count": 76,
   "metadata": {},
   "outputs": [
    {
     "name": "stdout",
     "output_type": "stream",
     "text": [
      " Train score: 0.39927501260539333, Test Score: 0.40106373606238743\n"
     ]
    }
   ],
   "source": [
    "linreg_pipeline.fit(X_train3, y_train3)\n",
    "score_printer(linreg_pipeline, X_train3, y_train3, X_test3, y_test3)"
   ]
  },
  {
   "cell_type": "code",
   "execution_count": 77,
   "metadata": {},
   "outputs": [
    {
     "name": "stdout",
     "output_type": "stream",
     "text": [
      " Train score: 0.3883241639592627, Test Score: 0.390210367617409\n"
     ]
    }
   ],
   "source": [
    "lasso_pipeline.fit(X_train3, y_train3)\n",
    "score_printer(lasso_pipeline, X_train3, y_train3, X_test3, y_test3)"
   ]
  },
  {
   "cell_type": "code",
   "execution_count": 78,
   "metadata": {},
   "outputs": [
    {
     "name": "stdout",
     "output_type": "stream",
     "text": [
      " Train score: 0.39909646024492684, Test Score: 0.4009165638478991\n"
     ]
    }
   ],
   "source": [
    "ridge_pipeline.fit(X_train3, y_train3)\n",
    "score_printer(ridge_pipeline, X_train3, y_train3, X_test3, y_test3)"
   ]
  },
  {
   "cell_type": "markdown",
   "metadata": {},
   "source": [
    "# Model Approach 3a:\n",
    "## add 4th category"
   ]
  },
  {
   "cell_type": "code",
   "execution_count": 99,
   "metadata": {},
   "outputs": [],
   "source": [
    "fourth_cat_features = ['CUML_DEBT_P10', 'CUML_DEBT_P25', 'DEBT_MDN', 'CUML_DEBT_P75', 'IND_DEBT_MDN']"
   ]
  },
  {
   "cell_type": "code",
   "execution_count": 109,
   "metadata": {},
   "outputs": [],
   "source": [
    "top_4_cat_features = top_3_cat_features + fourth_cat_features"
   ]
  },
  {
   "cell_type": "code",
   "execution_count": 110,
   "metadata": {},
   "outputs": [],
   "source": [
    "X3a = unpickled_df[top_3_cat_features]\n",
    "Y3a = unpickled_df['COMP_ORIG_YR4_RT']"
   ]
  },
  {
   "cell_type": "code",
   "execution_count": 111,
   "metadata": {},
   "outputs": [],
   "source": [
    "X_train3a, X_test3a, y_train3a, y_test3a = train_test_split(X3a, Y3a, test_size=0.2, random_state=42)"
   ]
  },
  {
   "cell_type": "code",
   "execution_count": 112,
   "metadata": {},
   "outputs": [
    {
     "name": "stdout",
     "output_type": "stream",
     "text": [
      " Train score: 0.39927501260539333, Test Score: 0.40106373606238743\n"
     ]
    }
   ],
   "source": [
    "linreg_pipeline.fit(X_train3a, y_train3a)\n",
    "score_printer(linreg_pipeline, X_train3a, y_train3a, X_test3a, y_test3a)"
   ]
  },
  {
   "cell_type": "code",
   "execution_count": 113,
   "metadata": {},
   "outputs": [
    {
     "name": "stdout",
     "output_type": "stream",
     "text": [
      " Train score: 0.3883241639592627, Test Score: 0.390210367617409\n"
     ]
    }
   ],
   "source": [
    "lasso_pipeline.fit(X_train3a, y_train3a)\n",
    "score_printer(lasso_pipeline, X_train3a, y_train3a, X_test3a, y_test3a)"
   ]
  },
  {
   "cell_type": "code",
   "execution_count": 114,
   "metadata": {},
   "outputs": [
    {
     "name": "stdout",
     "output_type": "stream",
     "text": [
      " Train score: 0.39909646024492684, Test Score: 0.4009165638478991\n"
     ]
    }
   ],
   "source": [
    "ridge_pipeline.fit(X_train3a, y_train3a)\n",
    "score_printer(ridge_pipeline, X_train3a, y_train3a, X_test3a, y_test3a)"
   ]
  },
  {
   "cell_type": "markdown",
   "metadata": {},
   "source": [
    "# Model Approach 3b:\n",
    "## Add 5th category"
   ]
  },
  {
   "cell_type": "code",
   "execution_count": 106,
   "metadata": {},
   "outputs": [],
   "source": [
    "fifth_cat_features = ['pct10_earn_wne_p10', 'mn_earn_wne_male1_p10', 'mn_earn_wne_indep0_p6', 'mn_earn_wne_inc1_p10', 'pct25_earn_wne_p10']"
   ]
  },
  {
   "cell_type": "code",
   "execution_count": 107,
   "metadata": {},
   "outputs": [],
   "source": [
    "top_5_cat_features = top_3_cat_features + fourth_cat_features + fifth_cat_features"
   ]
  },
  {
   "cell_type": "code",
   "execution_count": 108,
   "metadata": {},
   "outputs": [],
   "source": [
    "X3b = unpickled_df[top_3_cat_features]\n",
    "Y3b = unpickled_df['COMP_ORIG_YR4_RT']"
   ]
  },
  {
   "cell_type": "code",
   "execution_count": 115,
   "metadata": {},
   "outputs": [],
   "source": [
    "X_train3b, X_test3b, y_train3b, y_test3b = train_test_split(X3b, Y3b, test_size=0.2, random_state=42)"
   ]
  },
  {
   "cell_type": "code",
   "execution_count": 121,
   "metadata": {},
   "outputs": [
    {
     "name": "stdout",
     "output_type": "stream",
     "text": [
      " Train score: 0.39927501260539333, Test Score: 0.40106373606238743\n"
     ]
    }
   ],
   "source": [
    "linreg_pipeline.fit(X_train3b, y_train3b)\n",
    "score_printer(linreg_pipeline, X_train3b, y_train3b, X_test3b, y_test3b)"
   ]
  },
  {
   "cell_type": "code",
   "execution_count": 122,
   "metadata": {},
   "outputs": [
    {
     "name": "stdout",
     "output_type": "stream",
     "text": [
      " Train score: 0.3883241639592627, Test Score: 0.390210367617409\n"
     ]
    }
   ],
   "source": [
    "lasso_pipeline.fit(X_train3a, y_train3a)\n",
    "score_printer(lasso_pipeline, X_train3a, y_train3b, X_test3b, y_test3b)"
   ]
  },
  {
   "cell_type": "code",
   "execution_count": 123,
   "metadata": {},
   "outputs": [
    {
     "name": "stdout",
     "output_type": "stream",
     "text": [
      " Train score: 0.39909646024492684, Test Score: 0.4009165638478991\n"
     ]
    }
   ],
   "source": [
    "ridge_pipeline.fit(X_train3b, y_train3b)\n",
    "score_printer(ridge_pipeline, X_train3b, y_train3b, X_test3b, y_test3b)"
   ]
  },
  {
   "cell_type": "markdown",
   "metadata": {},
   "source": [
    "no significant improvements with implementing models this way"
   ]
  },
  {
   "cell_type": "code",
   "execution_count": null,
   "metadata": {},
   "outputs": [],
   "source": []
  }
 ],
 "metadata": {
  "kernelspec": {
   "display_name": "Python (learn-env)",
   "language": "python",
   "name": "learn-env"
  },
  "language_info": {
   "codemirror_mode": {
    "name": "ipython",
    "version": 3
   },
   "file_extension": ".py",
   "mimetype": "text/x-python",
   "name": "python",
   "nbconvert_exporter": "python",
   "pygments_lexer": "ipython3",
   "version": "3.8.5"
  }
 },
 "nbformat": 4,
 "nbformat_minor": 4
}
