{
 "cells": [
  {
   "cell_type": "code",
   "execution_count": 34,
   "metadata": {},
   "outputs": [],
   "source": [
    "import os, sqlite3\n",
    "import pandas as pd\n",
    "import numpy as np\n",
    "from sklearn.model_selection import train_test_split, GridSearchCV\n",
    "from sklearn.dummy import DummyRegressor\n",
    "from sklearn.linear_model import LinearRegression, Lasso, Ridge\n",
    "from sklearn.svm import LinearSVR, SVC, NuSVR\n",
    "from sklearn.tree import DecisionTreeRegressor\n",
    "from sklearn.preprocessing import StandardScaler, PolynomialFeatures\n",
    "from sklearn.pipeline import Pipeline, make_pipeline\n",
    "from sklearn.ensemble import RandomForestRegressor\n",
    "\n",
    "import matplotlib.pyplot as plt\n",
    "%matplotlib inline\n",
    "np.random.seed(9)"
   ]
  },
  {
   "cell_type": "code",
   "execution_count": 2,
   "metadata": {},
   "outputs": [],
   "source": [
    "#  functions & pipelines\n",
    "\n",
    "def score_printer(inst, Xtr, ytr, Xte, yte):\n",
    "    return print(f\" Train score: {inst.score(Xtr, ytr)}, Test Score: {inst.score(Xte, yte)}\")\n",
    "\n",
    "linreg_pipeline = Pipeline([('linreg', LinearRegression())])\n",
    "lasso_pipeline = Pipeline([('lasso',Lasso(random_state=42))])\n",
    "ridge_pipeline = Pipeline([('ridge',Ridge(random_state=42))])"
   ]
  },
  {
   "cell_type": "code",
   "execution_count": 3,
   "metadata": {},
   "outputs": [],
   "source": [
    "processed_top5_feature_df = pd.read_pickle(\"./data/processed_top5_feature_df.pkl\")"
   ]
  },
  {
   "cell_type": "code",
   "execution_count": 4,
   "metadata": {},
   "outputs": [
    {
     "data": {
      "text/plain": [
       "(34593, 9554)"
      ]
     },
     "execution_count": 4,
     "metadata": {},
     "output_type": "execute_result"
    }
   ],
   "source": [
    "processed_top5_feature_df.shape"
   ]
  },
  {
   "cell_type": "code",
   "execution_count": 5,
   "metadata": {},
   "outputs": [],
   "source": [
    "processed_top25_overall_df = pd.read_pickle(\"./data/processed_top25_overall_df.pkl\")"
   ]
  },
  {
   "cell_type": "code",
   "execution_count": 6,
   "metadata": {},
   "outputs": [
    {
     "data": {
      "text/plain": [
       "(34593, 27)"
      ]
     },
     "execution_count": 6,
     "metadata": {},
     "output_type": "execute_result"
    }
   ],
   "source": [
    "processed_top25_overall_df.shape"
   ]
  },
  {
   "cell_type": "markdown",
   "metadata": {},
   "source": [
    "# Train_Test_Split"
   ]
  },
  {
   "cell_type": "markdown",
   "metadata": {},
   "source": [
    "## Top 5 features from each category"
   ]
  },
  {
   "cell_type": "code",
   "execution_count": 7,
   "metadata": {},
   "outputs": [
    {
     "data": {
      "text/plain": [
       "((34593, 9553), (34593,))"
      ]
     },
     "execution_count": 7,
     "metadata": {},
     "output_type": "execute_result"
    }
   ],
   "source": [
    "X1 = processed_top5_feature_df.drop('COMP_ORIG_YR4_RT', axis=1).copy()\n",
    "y1 = processed_top5_feature_df['COMP_ORIG_YR4_RT']\n",
    "X1.shape, y1.shape"
   ]
  },
  {
   "cell_type": "code",
   "execution_count": 12,
   "metadata": {},
   "outputs": [],
   "source": [
    "X_train1, X_test1, y_train1, y_test1 = train_test_split(X1, y1, test_size=0.2, random_state=42)"
   ]
  },
  {
   "cell_type": "markdown",
   "metadata": {},
   "source": [
    "## Top 25 overall features"
   ]
  },
  {
   "cell_type": "code",
   "execution_count": 13,
   "metadata": {},
   "outputs": [
    {
     "data": {
      "text/plain": [
       "((34593, 26), (34593,))"
      ]
     },
     "execution_count": 13,
     "metadata": {},
     "output_type": "execute_result"
    }
   ],
   "source": [
    "X2 = processed_top25_overall_df.drop('COMP_ORIG_YR4_RT', axis=1).copy()\n",
    "y2 = processed_top25_overall_df['COMP_ORIG_YR4_RT']\n",
    "X2.shape, y2.shape"
   ]
  },
  {
   "cell_type": "code",
   "execution_count": 14,
   "metadata": {},
   "outputs": [],
   "source": [
    "X_train2, X_test2, y_train2, y_test2 = train_test_split(X2, y2, test_size=0.2, random_state=42)"
   ]
  },
  {
   "cell_type": "markdown",
   "metadata": {},
   "source": [
    "# Modelling"
   ]
  },
  {
   "cell_type": "markdown",
   "metadata": {},
   "source": [
    "## Baseline Model - Top 5 features from each category"
   ]
  },
  {
   "cell_type": "code",
   "execution_count": 15,
   "metadata": {},
   "outputs": [
    {
     "data": {
      "text/plain": [
       "-0.004003885233955451"
      ]
     },
     "execution_count": 15,
     "metadata": {},
     "output_type": "execute_result"
    }
   ],
   "source": [
    "dr1 = DummyRegressor(strategy='median')\n",
    "dr1.fit(X_train1, y_train1)\n",
    "dr1.predict(X_train1)\n",
    "dr1.score(X_train1, y_train1)"
   ]
  },
  {
   "cell_type": "markdown",
   "metadata": {},
   "source": [
    "## Baseline Model - Top 25 overall features"
   ]
  },
  {
   "cell_type": "code",
   "execution_count": 16,
   "metadata": {},
   "outputs": [
    {
     "data": {
      "text/plain": [
       "-0.004003885233955451"
      ]
     },
     "execution_count": 16,
     "metadata": {},
     "output_type": "execute_result"
    }
   ],
   "source": [
    "dr2 = DummyRegressor(strategy='median')\n",
    "dr2.fit(X_train2, y_train2)\n",
    "dr2.predict(X_train2)\n",
    "dr2.score(X_train2, y_train2)"
   ]
  },
  {
   "cell_type": "markdown",
   "metadata": {},
   "source": [
    "## Simple Basic Model - Top 5 Features from each category"
   ]
  },
  {
   "cell_type": "code",
   "execution_count": 19,
   "metadata": {},
   "outputs": [
    {
     "name": "stdout",
     "output_type": "stream",
     "text": [
      " Train score: 0.8894434631751102, Test Score: -1664862397.6829908\n"
     ]
    }
   ],
   "source": [
    "linreg_pipeline.fit(X_train1, y_train1)\n",
    "score_printer(linreg_pipeline, X_train1, y_train1, X_test1, y_test1)"
   ]
  },
  {
   "cell_type": "code",
   "execution_count": 20,
   "metadata": {},
   "outputs": [
    {
     "name": "stdout",
     "output_type": "stream",
     "text": [
      " Train score: 0.48826376668175187, Test Score: 0.4922897284143569\n"
     ]
    }
   ],
   "source": [
    "lasso_pipeline.fit(X_train1, y_train1)\n",
    "score_printer(lasso_pipeline, X_train1, y_train1, X_test1, y_test1)"
   ]
  },
  {
   "cell_type": "code",
   "execution_count": 21,
   "metadata": {},
   "outputs": [
    {
     "name": "stdout",
     "output_type": "stream",
     "text": [
      " Train score: 0.8820100610992159, Test Score: 0.810887936333579\n"
     ]
    }
   ],
   "source": [
    "ridge_pipeline.fit(X_train1, y_train1)\n",
    "score_printer(ridge_pipeline, X_train1, y_train1, X_test1, y_test1)"
   ]
  },
  {
   "cell_type": "markdown",
   "metadata": {},
   "source": [
    "## Simple Basic Model - Top 25 overall features"
   ]
  },
  {
   "cell_type": "code",
   "execution_count": 22,
   "metadata": {},
   "outputs": [
    {
     "name": "stdout",
     "output_type": "stream",
     "text": [
      " Train score: 0.4274893545979581, Test Score: 0.4295066332831843\n"
     ]
    }
   ],
   "source": [
    "linreg_pipeline.fit(X_train2, y_train2)\n",
    "score_printer(linreg_pipeline, X_train2, y_train2, X_test2, y_test2)"
   ]
  },
  {
   "cell_type": "code",
   "execution_count": 24,
   "metadata": {},
   "outputs": [
    {
     "name": "stdout",
     "output_type": "stream",
     "text": [
      " Train score: 0.42007227542500736, Test Score: 0.4193902987980843\n"
     ]
    }
   ],
   "source": [
    "lasso_pipeline.fit(X_train2, y_train2)\n",
    "score_printer(lasso_pipeline, X_train2, y_train2, X_test2, y_test2)"
   ]
  },
  {
   "cell_type": "code",
   "execution_count": 25,
   "metadata": {},
   "outputs": [
    {
     "name": "stdout",
     "output_type": "stream",
     "text": [
      " Train score: 0.42747232956837056, Test Score: 0.42951839897329\n"
     ]
    }
   ],
   "source": [
    "ridge_pipeline.fit(X_train2, y_train2)\n",
    "score_printer(ridge_pipeline, X_train2, y_train2, X_test2, y_test2)"
   ]
  },
  {
   "cell_type": "markdown",
   "metadata": {},
   "source": [
    "The running time for the Simple Basic Models for the Top 5 Features from each category had a longer running time, but provided the better scores. Other models will be used with the top 5 features from each category and see if the score can be improved."
   ]
  },
  {
   "cell_type": "markdown",
   "metadata": {},
   "source": [
    "\n",
    "# Trying Different Models"
   ]
  },
  {
   "cell_type": "markdown",
   "metadata": {},
   "source": [
    "## Linear Support Vector Regression"
   ]
  },
  {
   "cell_type": "code",
   "execution_count": 26,
   "metadata": {},
   "outputs": [
    {
     "name": "stderr",
     "output_type": "stream",
     "text": [
      "C:\\Users\\Jesus Baquiax\\anaconda3\\envs\\learn-env\\lib\\site-packages\\sklearn\\svm\\_base.py:976: ConvergenceWarning: Liblinear failed to converge, increase the number of iterations.\n",
      "  warnings.warn(\"Liblinear failed to converge, increase \"\n"
     ]
    },
    {
     "data": {
      "text/plain": [
       "LinearSVR(random_state=42)"
      ]
     },
     "execution_count": 26,
     "metadata": {},
     "output_type": "execute_result"
    }
   ],
   "source": [
    "linsvr = LinearSVR(random_state=42)\n",
    "linsvr.fit(X_train1, y_train1)"
   ]
  },
  {
   "cell_type": "code",
   "execution_count": 27,
   "metadata": {},
   "outputs": [
    {
     "name": "stdout",
     "output_type": "stream",
     "text": [
      " Train score: -1.4620444748816106, Test Score: -1.559660936625629\n"
     ]
    }
   ],
   "source": [
    "score_printer(linsvr, X_train1, y_train1, X_test1, y_test1)"
   ]
  },
  {
   "cell_type": "markdown",
   "metadata": {},
   "source": [
    "## Nu Support Vector Regression"
   ]
  },
  {
   "cell_type": "code",
   "execution_count": 28,
   "metadata": {},
   "outputs": [
    {
     "data": {
      "text/plain": [
       "Pipeline(steps=[('standardscaler', StandardScaler()), ('nusvr', NuSVR(nu=0.1))])"
      ]
     },
     "execution_count": 28,
     "metadata": {},
     "output_type": "execute_result"
    }
   ],
   "source": [
    "regr = make_pipeline(StandardScaler(), NuSVR(C=1.0, nu=0.1))\n",
    "regr.fit(X_train1, y_train1)"
   ]
  },
  {
   "cell_type": "code",
   "execution_count": 29,
   "metadata": {},
   "outputs": [
    {
     "name": "stdout",
     "output_type": "stream",
     "text": [
      " Train score: 0.7944055899547355, Test Score: 0.7237557338565553\n"
     ]
    }
   ],
   "source": [
    "score_printer(regr, X_train1, y_train1, X_test1, y_test1)"
   ]
  },
  {
   "cell_type": "markdown",
   "metadata": {},
   "source": [
    "## Decision Tree Regressor"
   ]
  },
  {
   "cell_type": "code",
   "execution_count": 30,
   "metadata": {},
   "outputs": [
    {
     "data": {
      "text/plain": [
       "DecisionTreeRegressor(max_depth=10, min_samples_split=20, random_state=10)"
      ]
     },
     "execution_count": 30,
     "metadata": {},
     "output_type": "execute_result"
    }
   ],
   "source": [
    "dtr = DecisionTreeRegressor(max_depth=10, min_samples_split=20, random_state=10)\n",
    "dtr.fit(X_train1, y_train1)"
   ]
  },
  {
   "cell_type": "code",
   "execution_count": 31,
   "metadata": {},
   "outputs": [
    {
     "name": "stdout",
     "output_type": "stream",
     "text": [
      " Train score: 0.8532561405977047, Test Score: 0.781850015869409\n"
     ]
    }
   ],
   "source": [
    "score_printer(dtr, X_train1, y_train1, X_test1, y_test1)"
   ]
  },
  {
   "cell_type": "markdown",
   "metadata": {},
   "source": [
    "## Decision Tree Regressor w GridSearchCV\n",
    "## used originally to find best parameters but commented out to avoid running again\n",
    "The decision tree gave us an amazing train score, but a low test score which indicates that the the model is overfitting. Will use GridsearchCV to see which parameters can be tuned in order to reduce overfitting and create a better model and then reapplied to the model to see how the train and test score perform."
   ]
  },
  {
   "cell_type": "code",
   "execution_count": 65,
   "metadata": {},
   "outputs": [],
   "source": [
    "# dtr = DecisionTreeRegressor(random_state=10)"
   ]
  },
  {
   "cell_type": "code",
   "execution_count": 70,
   "metadata": {},
   "outputs": [],
   "source": [
    "# param_grid = {\n",
    "#     'max_depth': [1, 2, 5, 10],\n",
    "#     'min_samples_split': [5, 10, 20]\n",
    "# }"
   ]
  },
  {
   "cell_type": "code",
   "execution_count": 74,
   "metadata": {},
   "outputs": [
    {
     "data": {
      "text/plain": [
       "GridSearchCV(cv=3, estimator=DecisionTreeRegressor(random_state=10),\n",
       "             param_grid={'max_depth': [1, 2, 5, 10],\n",
       "                         'min_samples_split': [5, 10, 20]})"
      ]
     },
     "execution_count": 74,
     "metadata": {},
     "output_type": "execute_result"
    }
   ],
   "source": [
    "# gs_tree = GridSearchCV(dtr, param_grid, cv=3)\n",
    "# gs_tree.fit(X_train, y_train)"
   ]
  },
  {
   "cell_type": "code",
   "execution_count": 73,
   "metadata": {},
   "outputs": [
    {
     "data": {
      "text/plain": [
       "(0.7719798561970207, {'max_depth': 10, 'min_samples_split': 20})"
      ]
     },
     "execution_count": 73,
     "metadata": {},
     "output_type": "execute_result"
    }
   ],
   "source": [
    "gs_tree.best_score_, gs_tree.best_params_"
   ]
  },
  {
   "cell_type": "markdown",
   "metadata": {},
   "source": [
    "## Random Forest Regressor"
   ]
  },
  {
   "cell_type": "code",
   "execution_count": 36,
   "metadata": {},
   "outputs": [
    {
     "data": {
      "text/plain": [
       "RandomForestRegressor(random_state=42)"
      ]
     },
     "execution_count": 36,
     "metadata": {},
     "output_type": "execute_result"
    }
   ],
   "source": [
    "rfr = RandomForestRegressor(random_state=42)\n",
    "rfr.fit(X_train1, y_train1)"
   ]
  },
  {
   "cell_type": "code",
   "execution_count": 37,
   "metadata": {},
   "outputs": [
    {
     "name": "stdout",
     "output_type": "stream",
     "text": [
      " Train score: 0.9769383850260506, Test Score: 0.8271455544689305\n"
     ]
    }
   ],
   "source": [
    "score_printer(rfr, X_train1, y_train1, X_test1, y_test1)"
   ]
  },
  {
   "cell_type": "markdown",
   "metadata": {},
   "source": [
    "The Ridge regression model gave us the best train and test scores, but was overfitting. The random forest regressot gave us better scores, but was more overfitting that the ridge lasso because the ridge model addresses some of the problems of Ordinary Least Squares by imposing a penalty on the size of the coefficients."
   ]
  },
  {
   "cell_type": "code",
   "execution_count": null,
   "metadata": {},
   "outputs": [],
   "source": []
  },
  {
   "cell_type": "markdown",
   "metadata": {},
   "source": [
    "# The below was a different approach where I layered in features and/or categories to see if there was one that would significantly improve the model's score. However, the score never significantly improved."
   ]
  },
  {
   "cell_type": "markdown",
   "metadata": {},
   "source": [
    "# Modelling Approach  2: \n",
    "## Models w top feature from each category\n",
    "This approach added the top feature from each of the 10 categories"
   ]
  },
  {
   "cell_type": "code",
   "execution_count": 12,
   "metadata": {},
   "outputs": [],
   "source": [
    "top_features = ['ZIP_60616-3878', 'SATMTMID', 'PCIP45', 'CIP51BACHL_1', 'UGDS_NRA', 'TUITIONFEE_OUT', 'CUML_DEBT_P10', 'COMP_ORIG_YR2_RT','MD_INC_RPY_1YR_RT','pct10_earn_wne_p10']"
   ]
  },
  {
   "cell_type": "code",
   "execution_count": 13,
   "metadata": {},
   "outputs": [],
   "source": [
    "X2 = unpickled_df[top_features]\n",
    "Y2 = unpickled_df['COMP_ORIG_YR4_RT']"
   ]
  },
  {
   "cell_type": "code",
   "execution_count": 14,
   "metadata": {},
   "outputs": [],
   "source": [
    "X_train2, X_test2, y_train2, y_test2 = train_test_split(X2, Y2, test_size=0.2, random_state=42)"
   ]
  },
  {
   "cell_type": "code",
   "execution_count": 15,
   "metadata": {},
   "outputs": [
    {
     "name": "stdout",
     "output_type": "stream",
     "text": [
      " Train score: 0.6313544569849286, Test Score: 0.6177837185384083\n"
     ]
    }
   ],
   "source": [
    "linreg_pipeline.fit(X_train2, y_train2)\n",
    "score_printer(linreg_pipeline, X_train2, y_train2, X_test2, y_test2)"
   ]
  },
  {
   "cell_type": "code",
   "execution_count": 16,
   "metadata": {},
   "outputs": [
    {
     "name": "stdout",
     "output_type": "stream",
     "text": [
      " Train score: 0.4348021530246138, Test Score: 0.4281706225146684\n"
     ]
    }
   ],
   "source": [
    "lasso_pipeline.fit(X_train2, y_train2)\n",
    "score_printer(lasso_pipeline, X_train2, y_train2, X_test2, y_test2)"
   ]
  },
  {
   "cell_type": "code",
   "execution_count": 17,
   "metadata": {},
   "outputs": [
    {
     "name": "stdout",
     "output_type": "stream",
     "text": [
      " Train score: 0.6313461414048559, Test Score: 0.6177964386509815\n"
     ]
    }
   ],
   "source": [
    "ridge_pipeline.fit(X_train2, y_train2)\n",
    "score_printer(ridge_pipeline, X_train2, y_train2, X_test2, y_test2)"
   ]
  },
  {
   "cell_type": "code",
   "execution_count": null,
   "metadata": {},
   "outputs": [],
   "source": []
  },
  {
   "cell_type": "code",
   "execution_count": null,
   "metadata": {},
   "outputs": [],
   "source": []
  },
  {
   "cell_type": "code",
   "execution_count": null,
   "metadata": {},
   "outputs": [],
   "source": []
  },
  {
   "cell_type": "markdown",
   "metadata": {},
   "source": [
    "# Model 2A:\n",
    "## add 2nd top feature from each category"
   ]
  },
  {
   "cell_type": "code",
   "execution_count": 84,
   "metadata": {},
   "outputs": [],
   "source": [
    "second_top_feature = ['ZIP_97230-3099', 'SATMT25', 'PCIP54', 'CIP26BACHL_1', 'UGDS_ASIAN', 'COSTT4_A', 'CUML_DEBT_P25', 'LOAN_COMP_ORIG_YR2_RT', 'HI_INC_RPY_3YR_RT', 'mn_earn_wne_male1_p10']"
   ]
  },
  {
   "cell_type": "code",
   "execution_count": 85,
   "metadata": {},
   "outputs": [],
   "source": [
    "first_second_features = top_features + second_top_feature"
   ]
  },
  {
   "cell_type": "code",
   "execution_count": 86,
   "metadata": {},
   "outputs": [],
   "source": [
    "X2a = unpickled_df[first_second_features]\n",
    "Y2a = unpickled_df['COMP_ORIG_YR4_RT']"
   ]
  },
  {
   "cell_type": "code",
   "execution_count": 87,
   "metadata": {},
   "outputs": [],
   "source": [
    "X_train2a, X_test2a, y_train2a, y_test2a = train_test_split(X2a, Y2a, test_size=0.2, random_state=42)"
   ]
  },
  {
   "cell_type": "code",
   "execution_count": 88,
   "metadata": {},
   "outputs": [
    {
     "name": "stdout",
     "output_type": "stream",
     "text": [
      " Train score: 0.6468685176721847, Test Score: 0.6390543556877776\n"
     ]
    }
   ],
   "source": [
    "linreg_pipeline.fit(X_train2a, y_train2a)\n",
    "score_printer(linreg_pipeline, X_train2a, y_train2a, X_test2a, y_test2a)"
   ]
  },
  {
   "cell_type": "code",
   "execution_count": 89,
   "metadata": {},
   "outputs": [
    {
     "name": "stdout",
     "output_type": "stream",
     "text": [
      " Train score: 0.45399978653578243, Test Score: 0.4563298807210854\n"
     ]
    }
   ],
   "source": [
    "lasso_pipeline.fit(X_train2a, y_train2a)\n",
    "score_printer(lasso_pipeline, X_train2a, y_train2a, X_test2a, y_test2a)"
   ]
  },
  {
   "cell_type": "code",
   "execution_count": 90,
   "metadata": {},
   "outputs": [
    {
     "name": "stdout",
     "output_type": "stream",
     "text": [
      " Train score: 0.6467788110047553, Test Score: 0.6390686037316503\n"
     ]
    }
   ],
   "source": [
    "ridge_pipeline.fit(X_train2a, y_train2a)\n",
    "score_printer(ridge_pipeline, X_train2a, y_train2a, X_test2a, y_test2a)"
   ]
  },
  {
   "cell_type": "markdown",
   "metadata": {},
   "source": [
    "# Model 2b\n",
    "Add 3rd top feature from each category"
   ]
  },
  {
   "cell_type": "code",
   "execution_count": 91,
   "metadata": {},
   "outputs": [],
   "source": [
    "third_top_feature = ['ZIP_38104-2211', 'SATMT75', 'PCIP23', 'CIP29CERT4_2', 'UGDS_UNKN', 'TUITIONFEE_IN', 'DEBT_MDN', 'COMP_ORIG_YR3_RT', 'HI_INC_RPY_1YR_RT', 'mn_earn_wne_indep0_p6']"
   ]
  },
  {
   "cell_type": "code",
   "execution_count": 92,
   "metadata": {},
   "outputs": [],
   "source": [
    "first_second_third = top_features + second_top_feature + third_top_feature"
   ]
  },
  {
   "cell_type": "code",
   "execution_count": 93,
   "metadata": {},
   "outputs": [],
   "source": [
    "X2b = unpickled_df[first_second_features]\n",
    "Y2b = unpickled_df['COMP_ORIG_YR4_RT']"
   ]
  },
  {
   "cell_type": "code",
   "execution_count": 94,
   "metadata": {},
   "outputs": [],
   "source": [
    "X_train2b, X_test2b, y_train2b, y_test2b = train_test_split(X2b, Y2b, test_size=0.2, random_state=42)"
   ]
  },
  {
   "cell_type": "code",
   "execution_count": 95,
   "metadata": {},
   "outputs": [
    {
     "name": "stdout",
     "output_type": "stream",
     "text": [
      " Train score: 0.6468685176721847, Test Score: 0.6390543556877776\n"
     ]
    }
   ],
   "source": [
    "linreg_pipeline.fit(X_train2b, y_train2b)\n",
    "score_printer(linreg_pipeline, X_train2b, y_train2b, X_test2b, y_test2b)"
   ]
  },
  {
   "cell_type": "code",
   "execution_count": 96,
   "metadata": {},
   "outputs": [
    {
     "name": "stdout",
     "output_type": "stream",
     "text": [
      " Train score: 0.45399978653578243, Test Score: 0.4563298807210854\n"
     ]
    }
   ],
   "source": [
    "lasso_pipeline.fit(X_train2b, y_train2b)\n",
    "score_printer(lasso_pipeline, X_train2b, y_train2b, X_test2b, y_test2b)"
   ]
  },
  {
   "cell_type": "code",
   "execution_count": 97,
   "metadata": {},
   "outputs": [
    {
     "name": "stdout",
     "output_type": "stream",
     "text": [
      " Train score: 0.6467788110047553, Test Score: 0.6390686037316503\n"
     ]
    }
   ],
   "source": [
    "ridge_pipeline.fit(X_train2b, y_train2b)\n",
    "score_printer(ridge_pipeline, X_train2b, y_train2b, X_test2b, y_test2b)"
   ]
  },
  {
   "cell_type": "markdown",
   "metadata": {},
   "source": [
    "It seems that adding features in this method doesn't significantly improve the score for each model."
   ]
  },
  {
   "cell_type": "markdown",
   "metadata": {},
   "source": [
    "# Model Approach 3: \n",
    "## Model w features from top 3 categories"
   ]
  },
  {
   "cell_type": "code",
   "execution_count": 17,
   "metadata": {},
   "outputs": [],
   "source": [
    "top_3_cat_features = ['TUITIONFEE_OUT', 'COSTT4_A', 'TUITIONFEE_IN', 'NPT45_PUB', 'NPT4_75UP_PUB', 'PCIP45', 'PCIP54', 'PCIP23', 'PCIP27', 'PCIP16', 'PCIP45', 'PCIP54', 'PCIP23', 'PCIP27', 'PCIP16', 'ZIP_60616-3878', 'ZIP_97230-3099', 'ZIP_38104-2211', 'ZIP_2115', 'CITY_Seneca Falls']"
   ]
  },
  {
   "cell_type": "code",
   "execution_count": 19,
   "metadata": {},
   "outputs": [],
   "source": [
    "X3 = unpickled_df[top_3_cat_features]\n",
    "Y3 = unpickled_df['COMP_ORIG_YR4_RT']"
   ]
  },
  {
   "cell_type": "code",
   "execution_count": 21,
   "metadata": {},
   "outputs": [],
   "source": [
    "X_train3, X_test3, y_train3, y_test3 = train_test_split(X3, Y3, test_size=0.2, random_state=42)"
   ]
  },
  {
   "cell_type": "code",
   "execution_count": 76,
   "metadata": {},
   "outputs": [
    {
     "name": "stdout",
     "output_type": "stream",
     "text": [
      " Train score: 0.39927501260539333, Test Score: 0.40106373606238743\n"
     ]
    }
   ],
   "source": [
    "linreg_pipeline.fit(X_train3, y_train3)\n",
    "score_printer(linreg_pipeline, X_train3, y_train3, X_test3, y_test3)"
   ]
  },
  {
   "cell_type": "code",
   "execution_count": 77,
   "metadata": {},
   "outputs": [
    {
     "name": "stdout",
     "output_type": "stream",
     "text": [
      " Train score: 0.3883241639592627, Test Score: 0.390210367617409\n"
     ]
    }
   ],
   "source": [
    "lasso_pipeline.fit(X_train3, y_train3)\n",
    "score_printer(lasso_pipeline, X_train3, y_train3, X_test3, y_test3)"
   ]
  },
  {
   "cell_type": "code",
   "execution_count": 78,
   "metadata": {},
   "outputs": [
    {
     "name": "stdout",
     "output_type": "stream",
     "text": [
      " Train score: 0.39909646024492684, Test Score: 0.4009165638478991\n"
     ]
    }
   ],
   "source": [
    "ridge_pipeline.fit(X_train3, y_train3)\n",
    "score_printer(ridge_pipeline, X_train3, y_train3, X_test3, y_test3)"
   ]
  },
  {
   "cell_type": "markdown",
   "metadata": {},
   "source": [
    "# Model Approach 3a:\n",
    "## add 4th category"
   ]
  },
  {
   "cell_type": "code",
   "execution_count": 99,
   "metadata": {},
   "outputs": [],
   "source": [
    "fourth_cat_features = ['CUML_DEBT_P10', 'CUML_DEBT_P25', 'DEBT_MDN', 'CUML_DEBT_P75', 'IND_DEBT_MDN']"
   ]
  },
  {
   "cell_type": "code",
   "execution_count": 109,
   "metadata": {},
   "outputs": [],
   "source": [
    "top_4_cat_features = top_3_cat_features + fourth_cat_features"
   ]
  },
  {
   "cell_type": "code",
   "execution_count": 110,
   "metadata": {},
   "outputs": [],
   "source": [
    "X3a = unpickled_df[top_3_cat_features]\n",
    "Y3a = unpickled_df['COMP_ORIG_YR4_RT']"
   ]
  },
  {
   "cell_type": "code",
   "execution_count": 111,
   "metadata": {},
   "outputs": [],
   "source": [
    "X_train3a, X_test3a, y_train3a, y_test3a = train_test_split(X3a, Y3a, test_size=0.2, random_state=42)"
   ]
  },
  {
   "cell_type": "code",
   "execution_count": 112,
   "metadata": {},
   "outputs": [
    {
     "name": "stdout",
     "output_type": "stream",
     "text": [
      " Train score: 0.39927501260539333, Test Score: 0.40106373606238743\n"
     ]
    }
   ],
   "source": [
    "linreg_pipeline.fit(X_train3a, y_train3a)\n",
    "score_printer(linreg_pipeline, X_train3a, y_train3a, X_test3a, y_test3a)"
   ]
  },
  {
   "cell_type": "code",
   "execution_count": 113,
   "metadata": {},
   "outputs": [
    {
     "name": "stdout",
     "output_type": "stream",
     "text": [
      " Train score: 0.3883241639592627, Test Score: 0.390210367617409\n"
     ]
    }
   ],
   "source": [
    "lasso_pipeline.fit(X_train3a, y_train3a)\n",
    "score_printer(lasso_pipeline, X_train3a, y_train3a, X_test3a, y_test3a)"
   ]
  },
  {
   "cell_type": "code",
   "execution_count": 114,
   "metadata": {},
   "outputs": [
    {
     "name": "stdout",
     "output_type": "stream",
     "text": [
      " Train score: 0.39909646024492684, Test Score: 0.4009165638478991\n"
     ]
    }
   ],
   "source": [
    "ridge_pipeline.fit(X_train3a, y_train3a)\n",
    "score_printer(ridge_pipeline, X_train3a, y_train3a, X_test3a, y_test3a)"
   ]
  },
  {
   "cell_type": "markdown",
   "metadata": {},
   "source": [
    "# Model Approach 3b:\n",
    "## Add 5th category"
   ]
  },
  {
   "cell_type": "code",
   "execution_count": 106,
   "metadata": {},
   "outputs": [],
   "source": [
    "fifth_cat_features = ['pct10_earn_wne_p10', 'mn_earn_wne_male1_p10', 'mn_earn_wne_indep0_p6', 'mn_earn_wne_inc1_p10', 'pct25_earn_wne_p10']"
   ]
  },
  {
   "cell_type": "code",
   "execution_count": 107,
   "metadata": {},
   "outputs": [],
   "source": [
    "top_5_cat_features = top_3_cat_features + fourth_cat_features + fifth_cat_features"
   ]
  },
  {
   "cell_type": "code",
   "execution_count": 108,
   "metadata": {},
   "outputs": [],
   "source": [
    "X3b = unpickled_df[top_3_cat_features]\n",
    "Y3b = unpickled_df['COMP_ORIG_YR4_RT']"
   ]
  },
  {
   "cell_type": "code",
   "execution_count": 115,
   "metadata": {},
   "outputs": [],
   "source": [
    "X_train3b, X_test3b, y_train3b, y_test3b = train_test_split(X3b, Y3b, test_size=0.2, random_state=42)"
   ]
  },
  {
   "cell_type": "code",
   "execution_count": 121,
   "metadata": {},
   "outputs": [
    {
     "name": "stdout",
     "output_type": "stream",
     "text": [
      " Train score: 0.39927501260539333, Test Score: 0.40106373606238743\n"
     ]
    }
   ],
   "source": [
    "linreg_pipeline.fit(X_train3b, y_train3b)\n",
    "score_printer(linreg_pipeline, X_train3b, y_train3b, X_test3b, y_test3b)"
   ]
  },
  {
   "cell_type": "code",
   "execution_count": 122,
   "metadata": {},
   "outputs": [
    {
     "name": "stdout",
     "output_type": "stream",
     "text": [
      " Train score: 0.3883241639592627, Test Score: 0.390210367617409\n"
     ]
    }
   ],
   "source": [
    "lasso_pipeline.fit(X_train3a, y_train3a)\n",
    "score_printer(lasso_pipeline, X_train3a, y_train3b, X_test3b, y_test3b)"
   ]
  },
  {
   "cell_type": "code",
   "execution_count": 123,
   "metadata": {},
   "outputs": [
    {
     "name": "stdout",
     "output_type": "stream",
     "text": [
      " Train score: 0.39909646024492684, Test Score: 0.4009165638478991\n"
     ]
    }
   ],
   "source": [
    "ridge_pipeline.fit(X_train3b, y_train3b)\n",
    "score_printer(ridge_pipeline, X_train3b, y_train3b, X_test3b, y_test3b)"
   ]
  },
  {
   "cell_type": "markdown",
   "metadata": {},
   "source": [
    "no significant improvements with implementing models this way"
   ]
  },
  {
   "cell_type": "code",
   "execution_count": null,
   "metadata": {},
   "outputs": [],
   "source": []
  }
 ],
 "metadata": {
  "kernelspec": {
   "display_name": "Python (learn-env)",
   "language": "python",
   "name": "learn-env"
  },
  "language_info": {
   "codemirror_mode": {
    "name": "ipython",
    "version": 3
   },
   "file_extension": ".py",
   "mimetype": "text/x-python",
   "name": "python",
   "nbconvert_exporter": "python",
   "pygments_lexer": "ipython3",
   "version": "3.8.5"
  }
 },
 "nbformat": 4,
 "nbformat_minor": 4
}
