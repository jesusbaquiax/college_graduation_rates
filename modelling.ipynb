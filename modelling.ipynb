{
 "cells": [
  {
   "cell_type": "code",
   "execution_count": 1,
   "metadata": {},
   "outputs": [],
   "source": [
    "import pandas as pd\n",
    "import numpy as np"
   ]
  },
  {
   "cell_type": "code",
   "execution_count": 15,
   "metadata": {},
   "outputs": [
    {
     "ename": "TypeError",
     "evalue": "read_csv() got an unexpected keyword argument 'index'",
     "output_type": "error",
     "traceback": [
      "\u001b[1;31m---------------------------------------------------------------------------\u001b[0m",
      "\u001b[1;31mTypeError\u001b[0m                                 Traceback (most recent call last)",
      "\u001b[1;32m<ipython-input-15-eaab6f462d1b>\u001b[0m in \u001b[0;36m<module>\u001b[1;34m\u001b[0m\n\u001b[1;32m----> 1\u001b[1;33m \u001b[0mdf\u001b[0m \u001b[1;33m=\u001b[0m \u001b[0mpd\u001b[0m\u001b[1;33m.\u001b[0m\u001b[0mread_csv\u001b[0m\u001b[1;33m(\u001b[0m\u001b[1;34m'./data/processed_final_df.csv'\u001b[0m\u001b[1;33m,\u001b[0m \u001b[0mindex\u001b[0m\u001b[1;33m=\u001b[0m\u001b[1;32mFalse\u001b[0m\u001b[1;33m)\u001b[0m\u001b[1;33m\u001b[0m\u001b[1;33m\u001b[0m\u001b[0m\n\u001b[0m",
      "\u001b[1;31mTypeError\u001b[0m: read_csv() got an unexpected keyword argument 'index'"
     ]
    }
   ],
   "source": [
    "df = pd.read_csv('./data/processed_final_df.csv', index=False)"
   ]
  },
  {
   "cell_type": "code",
   "execution_count": 14,
   "metadata": {},
   "outputs": [
    {
     "name": "stdout",
     "output_type": "stream",
     "text": [
      "<class 'pandas.core.frame.DataFrame'>\n",
      "RangeIndex: 34593 entries, 0 to 34592\n",
      "Columns: 9560 entries, Unnamed: 0 to CITY_Zarephath\n",
      "dtypes: float64(42), int64(9518)\n",
      "memory usage: 2.5 GB\n"
     ]
    }
   ],
   "source": [
    "df.info()"
   ]
  },
  {
   "cell_type": "code",
   "execution_count": 10,
   "metadata": {},
   "outputs": [
    {
     "data": {
      "text/plain": [
       "(34593, 9560)"
      ]
     },
     "execution_count": 10,
     "metadata": {},
     "output_type": "execute_result"
    }
   ],
   "source": [
    "df.shape"
   ]
  },
  {
   "cell_type": "code",
   "execution_count": 12,
   "metadata": {},
   "outputs": [
    {
     "data": {
      "text/html": [
       "<div>\n",
       "<style scoped>\n",
       "    .dataframe tbody tr th:only-of-type {\n",
       "        vertical-align: middle;\n",
       "    }\n",
       "\n",
       "    .dataframe tbody tr th {\n",
       "        vertical-align: top;\n",
       "    }\n",
       "\n",
       "    .dataframe thead th {\n",
       "        text-align: right;\n",
       "    }\n",
       "</style>\n",
       "<table border=\"1\" class=\"dataframe\">\n",
       "  <thead>\n",
       "    <tr style=\"text-align: right;\">\n",
       "      <th></th>\n",
       "      <th>Unnamed: 0</th>\n",
       "      <th>UNITID</th>\n",
       "      <th>COMP_ORIG_YR4_RT</th>\n",
       "      <th>SATMTMID</th>\n",
       "      <th>SATMT25</th>\n",
       "      <th>SATMT75</th>\n",
       "      <th>SAT_AVG_ALL</th>\n",
       "      <th>ACTEN25</th>\n",
       "      <th>PCIP45</th>\n",
       "      <th>PCIP54</th>\n",
       "      <th>...</th>\n",
       "      <th>CITY_Young Harris</th>\n",
       "      <th>CITY_Youngstown</th>\n",
       "      <th>CITY_Youngwood</th>\n",
       "      <th>CITY_Ypsilanti</th>\n",
       "      <th>CITY_Yucaipa</th>\n",
       "      <th>CITY_Yuma</th>\n",
       "      <th>CITY_ZANESVILLE</th>\n",
       "      <th>CITY_ZAREPHATH</th>\n",
       "      <th>CITY_Zanesville</th>\n",
       "      <th>CITY_Zarephath</th>\n",
       "    </tr>\n",
       "  </thead>\n",
       "  <tbody>\n",
       "    <tr>\n",
       "      <th>0</th>\n",
       "      <td>0</td>\n",
       "      <td>100654.0</td>\n",
       "      <td>0.214286</td>\n",
       "      <td>417.5</td>\n",
       "      <td>370.0</td>\n",
       "      <td>465.0</td>\n",
       "      <td>850.0</td>\n",
       "      <td>15.0</td>\n",
       "      <td>0.0465</td>\n",
       "      <td>0.0039</td>\n",
       "      <td>...</td>\n",
       "      <td>0</td>\n",
       "      <td>0</td>\n",
       "      <td>0</td>\n",
       "      <td>0</td>\n",
       "      <td>0</td>\n",
       "      <td>0</td>\n",
       "      <td>0</td>\n",
       "      <td>0</td>\n",
       "      <td>0</td>\n",
       "      <td>0</td>\n",
       "    </tr>\n",
       "    <tr>\n",
       "      <th>1</th>\n",
       "      <td>1</td>\n",
       "      <td>100663.0</td>\n",
       "      <td>0.385975</td>\n",
       "      <td>570.0</td>\n",
       "      <td>500.0</td>\n",
       "      <td>640.0</td>\n",
       "      <td>1030.0</td>\n",
       "      <td>19.0</td>\n",
       "      <td>0.0435</td>\n",
       "      <td>0.0374</td>\n",
       "      <td>...</td>\n",
       "      <td>0</td>\n",
       "      <td>0</td>\n",
       "      <td>0</td>\n",
       "      <td>0</td>\n",
       "      <td>0</td>\n",
       "      <td>0</td>\n",
       "      <td>0</td>\n",
       "      <td>0</td>\n",
       "      <td>0</td>\n",
       "      <td>0</td>\n",
       "    </tr>\n",
       "    <tr>\n",
       "      <th>2</th>\n",
       "      <td>2</td>\n",
       "      <td>100690.0</td>\n",
       "      <td>0.454545</td>\n",
       "      <td>585.0</td>\n",
       "      <td>445.0</td>\n",
       "      <td>725.0</td>\n",
       "      <td>963.5</td>\n",
       "      <td>14.5</td>\n",
       "      <td>0.0000</td>\n",
       "      <td>0.0000</td>\n",
       "      <td>...</td>\n",
       "      <td>0</td>\n",
       "      <td>0</td>\n",
       "      <td>0</td>\n",
       "      <td>0</td>\n",
       "      <td>0</td>\n",
       "      <td>0</td>\n",
       "      <td>0</td>\n",
       "      <td>0</td>\n",
       "      <td>0</td>\n",
       "      <td>0</td>\n",
       "    </tr>\n",
       "    <tr>\n",
       "      <th>3</th>\n",
       "      <td>3</td>\n",
       "      <td>100706.0</td>\n",
       "      <td>0.236842</td>\n",
       "      <td>575.0</td>\n",
       "      <td>510.0</td>\n",
       "      <td>640.0</td>\n",
       "      <td>1129.0</td>\n",
       "      <td>21.0</td>\n",
       "      <td>0.0246</td>\n",
       "      <td>0.0055</td>\n",
       "      <td>...</td>\n",
       "      <td>0</td>\n",
       "      <td>0</td>\n",
       "      <td>0</td>\n",
       "      <td>0</td>\n",
       "      <td>0</td>\n",
       "      <td>0</td>\n",
       "      <td>0</td>\n",
       "      <td>0</td>\n",
       "      <td>0</td>\n",
       "      <td>0</td>\n",
       "    </tr>\n",
       "    <tr>\n",
       "      <th>4</th>\n",
       "      <td>4</td>\n",
       "      <td>100724.0</td>\n",
       "      <td>0.117182</td>\n",
       "      <td>400.0</td>\n",
       "      <td>340.0</td>\n",
       "      <td>460.0</td>\n",
       "      <td>784.0</td>\n",
       "      <td>13.0</td>\n",
       "      <td>0.0172</td>\n",
       "      <td>0.0123</td>\n",
       "      <td>...</td>\n",
       "      <td>0</td>\n",
       "      <td>0</td>\n",
       "      <td>0</td>\n",
       "      <td>0</td>\n",
       "      <td>0</td>\n",
       "      <td>0</td>\n",
       "      <td>0</td>\n",
       "      <td>0</td>\n",
       "      <td>0</td>\n",
       "      <td>0</td>\n",
       "    </tr>\n",
       "  </tbody>\n",
       "</table>\n",
       "<p>5 rows × 9560 columns</p>\n",
       "</div>"
      ],
      "text/plain": [
       "   Unnamed: 0    UNITID  COMP_ORIG_YR4_RT  SATMTMID  SATMT25  SATMT75  \\\n",
       "0           0  100654.0          0.214286     417.5    370.0    465.0   \n",
       "1           1  100663.0          0.385975     570.0    500.0    640.0   \n",
       "2           2  100690.0          0.454545     585.0    445.0    725.0   \n",
       "3           3  100706.0          0.236842     575.0    510.0    640.0   \n",
       "4           4  100724.0          0.117182     400.0    340.0    460.0   \n",
       "\n",
       "   SAT_AVG_ALL  ACTEN25  PCIP45  PCIP54  ...  CITY_Young Harris  \\\n",
       "0        850.0     15.0  0.0465  0.0039  ...                  0   \n",
       "1       1030.0     19.0  0.0435  0.0374  ...                  0   \n",
       "2        963.5     14.5  0.0000  0.0000  ...                  0   \n",
       "3       1129.0     21.0  0.0246  0.0055  ...                  0   \n",
       "4        784.0     13.0  0.0172  0.0123  ...                  0   \n",
       "\n",
       "   CITY_Youngstown  CITY_Youngwood  CITY_Ypsilanti  CITY_Yucaipa  CITY_Yuma  \\\n",
       "0                0               0               0             0          0   \n",
       "1                0               0               0             0          0   \n",
       "2                0               0               0             0          0   \n",
       "3                0               0               0             0          0   \n",
       "4                0               0               0             0          0   \n",
       "\n",
       "   CITY_ZANESVILLE  CITY_ZAREPHATH  CITY_Zanesville  CITY_Zarephath  \n",
       "0                0               0                0               0  \n",
       "1                0               0                0               0  \n",
       "2                0               0                0               0  \n",
       "3                0               0                0               0  \n",
       "4                0               0                0               0  \n",
       "\n",
       "[5 rows x 9560 columns]"
      ]
     },
     "execution_count": 12,
     "metadata": {},
     "output_type": "execute_result"
    }
   ],
   "source": [
    "df.head()"
   ]
  },
  {
   "cell_type": "code",
   "execution_count": null,
   "metadata": {},
   "outputs": [],
   "source": []
  }
 ],
 "metadata": {
  "kernelspec": {
   "display_name": "Python (learn-env)",
   "language": "python",
   "name": "learn-env"
  },
  "language_info": {
   "codemirror_mode": {
    "name": "ipython",
    "version": 3
   },
   "file_extension": ".py",
   "mimetype": "text/x-python",
   "name": "python",
   "nbconvert_exporter": "python",
   "pygments_lexer": "ipython3",
   "version": "3.8.5"
  }
 },
 "nbformat": 4,
 "nbformat_minor": 4
}
